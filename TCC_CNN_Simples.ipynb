{
 "cells": [
  {
   "cell_type": "markdown",
   "metadata": {},
   "source": [
    "https://medium.com/ensina-ai/tutorial-transfer-learning-3972cac5e9b5\n",
    "\n",
    "https://github.com/lmeazzini/Flower-Recognition/blob/master/CNNs%20-%20Tutorial%20Transfer%20Learning.ipynb\n",
    "\n",
    "https://github.com/deepdados/ProjetoCOVID/blob/master/treinamento_resultados_COVID_modelo2.ipynb\n",
    "\n",
    "https://flyyufelix.github.io/2016/10/08/fine-tuning-in-keras-part2.html"
   ]
  },
  {
   "cell_type": "code",
   "execution_count": null,
   "metadata": {},
   "outputs": [],
   "source": [
    "import numpy as np\n",
    "import pandas as pd\n",
    "import matplotlib.pyplot as plt\n",
    "%matplotlib inline  \n",
    "import seaborn as sns\n",
    "from sklearn.model_selection import train_test_split\n",
    "import keras\n",
    "from keras.preprocessing.image import ImageDataGenerator\n",
    "from keras.models import Model\n",
    "from keras.optimizers import Nadam\n",
    "from keras.utils import to_categorical\n",
    "from keras.layers import Dropout, Flatten, Input, Dense\n",
    "from keras.layers import Conv2D, MaxPooling2D, BatchNormalization"
   ]
  },
  {
   "cell_type": "code",
   "execution_count": null,
   "metadata": {},
   "outputs": [],
   "source": []
  },
  {
   "cell_type": "code",
   "execution_count": null,
   "metadata": {},
   "outputs": [],
   "source": []
  },
  {
   "cell_type": "code",
   "execution_count": null,
   "metadata": {},
   "outputs": [],
   "source": [
    "inp = Input((224,224,3))\n",
    "conv1 = Conv2D(64, (5,5), padding='valid', activation= 'relu')(inp)\n",
    "conv1 = MaxPooling2D(pool_size=(2,2))(conv1)\n",
    "conv1 = BatchNormalization()(conv1)\n",
    "conv2 = Conv2D(96, (4,4), padding='valid', activation= 'relu')(conv1)\n",
    "conv2 = MaxPooling2D(pool_size=(2,2))(conv2)\n",
    "conv2 = BatchNormalization()(conv2)\n",
    "conv3 = Conv2D(128, (3,3), padding='valid', activation= 'relu')(conv2)\n",
    "conv3 = MaxPooling2D(pool_size=(2,2))(conv3)\n",
    "conv3 = BatchNormalization()(conv3)\n",
    "conv4 = Conv2D(256, (3,3), padding='valid', activation= 'relu')(conv3)\n",
    "conv4 = MaxPooling2D(pool_size=(2,2))(conv4)\n",
    "conv4 = BatchNormalization()(conv4)\n",
    "flat = Flatten()(conv4)\n",
    "dense1 = Dense(512, activation= 'relu')(flat)\n",
    "dense1 = Dropout(0.5)(dense1)\n",
    "dense2 = Dense(64, activation= 'relu')(dense1)\n",
    "dense2 = Dropout(0.1)(dense2)\n",
    "out = Dense(5, activation = 'softmax')(dense2)\n",
    "model = Model(inp, out)\n",
    "model.compile(optimizer = Nadam(lr = 0.0001) , loss = 'categorical_crossentropy', metrics=['accuracy'])"
   ]
  }
 ],
 "metadata": {
  "kernelspec": {
   "display_name": "Python 3",
   "language": "python",
   "name": "python3"
  },
  "language_info": {
   "codemirror_mode": {
    "name": "ipython",
    "version": 3
   },
   "file_extension": ".py",
   "mimetype": "text/x-python",
   "name": "python",
   "nbconvert_exporter": "python",
   "pygments_lexer": "ipython3",
   "version": "3.6.10"
  }
 },
 "nbformat": 4,
 "nbformat_minor": 4
}
