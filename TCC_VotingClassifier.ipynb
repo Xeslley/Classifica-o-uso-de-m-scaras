{
 "cells": [
  {
   "cell_type": "markdown",
   "metadata": {},
   "source": [
    "A ideia por trás do VotingClassifier é combinar classificadores de machine learn conceitualmente diferentes e usar um voto para prever os rótulos das classes. \n",
    "Tal classificador pode ser útil para um conjunto de modelos de desempenho igualmente bom, a fim de equilibrar suas fraquezas individuais.\n",
    "\n",
    "[Documentação](https://scikit-learn.org/stable/modules/generated/sklearn.ensemble.VotingClassifier.html#sklearn.ensemble.VotingClassifier)"
   ]
  },
  {
   "cell_type": "code",
   "execution_count": 21,
   "metadata": {
    "ExecuteTime": {
     "end_time": "2020-10-13T15:20:22.784155Z",
     "start_time": "2020-10-13T15:20:22.500322Z"
    }
   },
   "outputs": [],
   "source": [
    "from sklearn.ensemble import VotingClassifier\n",
    "from sklearn.model_selection import StratifiedShuffleSplit, train_test_split\n",
    "from sklearn.model_selection import GridSearchCV\n",
    "from sklearn import preprocessing\n",
    "from sklearn.metrics import classification_report\n",
    "import pandas as pd\n",
    "import os\n",
    "from sklearn.linear_model import SGDClassifier\n",
    "from sklearn.neighbors import KNeighborsClassifier\n",
    "from sklearn.ensemble import RandomForestClassifier\n",
    "from sklearn.neural_network import MLPClassifier\n",
    "from sklearn.linear_model import LogisticRegression\n",
    "import numpy as np\n",
    "import matplotlib.pyplot as plt"
   ]
  },
  {
   "cell_type": "code",
   "execution_count": 2,
   "metadata": {
    "ExecuteTime": {
     "end_time": "2020-10-13T11:44:12.675991Z",
     "start_time": "2020-10-13T11:44:10.707172Z"
    }
   },
   "outputs": [],
   "source": [
    "# Loading some example data\n",
    "bases_prontas_path = os.path.join(\"D:\\\\\",\"FIA\",\"TCC\",\"BASES\",\"\")\n",
    "df = pd.read_csv(bases_prontas_path+'mask_dataset_vgg16_preprocess_input_224_224_3_feature_extracted.csv')\n",
    "X, y = df.drop(['im_path', 'class'], axis=1), df['class'].values\n",
    "\n",
    "label_transformer = preprocessing.LabelEncoder()\n",
    "label_transformer.fit(y)\n",
    "y = label_transformer.transform(y)\n",
    "\n",
    "cross_validation = StratifiedShuffleSplit(n_splits=7, test_size=0.3, random_state=42)"
   ]
  },
  {
   "cell_type": "code",
   "execution_count": 3,
   "metadata": {
    "ExecuteTime": {
     "end_time": "2020-10-13T11:44:12.685881Z",
     "start_time": "2020-10-13T11:44:12.676942Z"
    }
   },
   "outputs": [],
   "source": [
    "# Training classifiers\n",
    "#clf1 = SGDClassifier(alpha=0.31622776601683794, max_iter=100, random_state=42,tol=0.0001, loss=\"hinge\", penalty = \"l2\")\n",
    "#SGD falha no voting, para não gastar mais tempo decidi abortar o SGD\n",
    "clf2 = KNeighborsClassifier(n_neighbors=6, weights=\"distance\", algorithm= \"brute\", p= 2, metric = \"braycurtis\")\n",
    "clf3 = KNeighborsClassifier(n_neighbors=3, weights=\"distance\", algorithm= \"ball_tree\", p= 1, metric = \"braycurtis\")\n",
    "clf4 = LogisticRegression(random_state=0, max_iter = 10000, solver = \"liblinear\", penalty= \"l1\", C= 1, class_weight = \"balanced\")\n",
    "clf5 = RandomForestClassifier(max_depth=1000, random_state=42, criterion= \"gini\", class_weight = \"balanced\",n_estimators=1000)\n",
    "clf6 = MLPClassifier(solver='lbfgs', random_state=42, max_iter=300000, learning_rate=\"invscaling\", learning_rate_init=0.5, tol=0.01, hidden_layer_sizes=(50, 3),alpha=0.015038869469554102)\n",
    "       \n",
    "estimadores = [#('sgd', clf1), \n",
    "               ('knn6', clf2), \n",
    "               ('knn3', clf3), \n",
    "               ('regLog', clf4),\n",
    "               ('RdnForest', clf5),\n",
    "               ('MLP', clf6)]\n",
    "\n",
    "\n",
    "#eclf = VotingClassifier(estimators=estimadores, weights=[1, 2, 2, 1, 1, 2])\n",
    "eclf = VotingClassifier(estimators=estimadores, weights=[2, 2, 1, 1, 2])"
   ]
  },
  {
   "cell_type": "code",
   "execution_count": 4,
   "metadata": {
    "ExecuteTime": {
     "end_time": "2020-10-13T13:24:38.064670Z",
     "start_time": "2020-10-13T11:44:12.687874Z"
    }
   },
   "outputs": [],
   "source": [
    "params = {'voting': [\"hard\", \"soft\"]}\n",
    "grid = GridSearchCV(estimator=eclf, param_grid=params, cv=cross_validation)\n",
    "grid_historico = grid.fit(X, y)"
   ]
  },
  {
   "cell_type": "code",
   "execution_count": 6,
   "metadata": {
    "ExecuteTime": {
     "end_time": "2020-10-13T13:29:44.532907Z",
     "start_time": "2020-10-13T13:29:44.501988Z"
    }
   },
   "outputs": [
    {
     "name": "stdout",
     "output_type": "stream",
     "text": [
      "O melhor modelo foi:\n",
      "VotingClassifier(estimators=[('knn6',\n",
      "                              KNeighborsClassifier(algorithm='brute',\n",
      "                                                   metric='braycurtis',\n",
      "                                                   n_neighbors=6,\n",
      "                                                   weights='distance')),\n",
      "                             ('knn3',\n",
      "                              KNeighborsClassifier(algorithm='ball_tree',\n",
      "                                                   metric='braycurtis',\n",
      "                                                   n_neighbors=3, p=1,\n",
      "                                                   weights='distance')),\n",
      "                             ('regLog',\n",
      "                              LogisticRegression(C=1, class_weight='balanced',\n",
      "                                                 max_iter=10000, penalty='l1',\n",
      "                                                 random_state=0,\n",
      "                                                 solver='liblinear')),\n",
      "                             ('RdnForest',\n",
      "                              RandomForestClassifier(class_weight='balanced',\n",
      "                                                     max_depth=1000,\n",
      "                                                     n_estimators=1000,\n",
      "                                                     random_state=42)),\n",
      "                             ('MLP',\n",
      "                              MLPClassifier(alpha=0.015038869469554102,\n",
      "                                            hidden_layer_sizes=(50, 3),\n",
      "                                            learning_rate='invscaling',\n",
      "                                            learning_rate_init=0.5,\n",
      "                                            max_iter=300000, random_state=42,\n",
      "                                            solver='lbfgs', tol=0.01))],\n",
      "                 voting='soft', weights=[2, 2, 1, 1, 2])\n",
      "score: 0.8943899448191293\n",
      "Parametros:\n",
      "{'voting': 'soft'}\n"
     ]
    }
   ],
   "source": [
    "print(f\"O melhor modelo foi:\\n{grid.best_estimator_}\\nscore: {grid.best_score_}\\nParametros:\\n{grid.best_params_}\")"
   ]
  },
  {
   "cell_type": "code",
   "execution_count": 25,
   "metadata": {
    "ExecuteTime": {
     "end_time": "2020-10-13T17:06:54.942888Z",
     "start_time": "2020-10-13T17:06:54.830216Z"
    }
   },
   "outputs": [],
   "source": [
    "X_train, X_test, y_train, y_test = train_test_split(X, y, test_size=0.30, random_state=42)"
   ]
  },
  {
   "cell_type": "code",
   "execution_count": 26,
   "metadata": {
    "ExecuteTime": {
     "end_time": "2020-10-13T17:06:55.266509Z",
     "start_time": "2020-10-13T17:06:55.263523Z"
    }
   },
   "outputs": [],
   "source": [
    "eclf2 = VotingClassifier(estimators=estimadores, voting = 'soft', weights=[2, 2, 1, 1, 2])"
   ]
  },
  {
   "cell_type": "code",
   "execution_count": 27,
   "metadata": {
    "ExecuteTime": {
     "end_time": "2020-10-13T17:12:25.991252Z",
     "start_time": "2020-10-13T17:06:55.701483Z"
    }
   },
   "outputs": [],
   "source": [
    "eclf2_H = eclf2.fit(X_train,y_train)"
   ]
  },
  {
   "cell_type": "code",
   "execution_count": 28,
   "metadata": {
    "ExecuteTime": {
     "end_time": "2020-10-13T17:12:26.005216Z",
     "start_time": "2020-10-13T17:12:25.993247Z"
    }
   },
   "outputs": [],
   "source": [
    "### print(\"[INFO] evaluating network...\")\n",
    "lb = [\"without_mask\",\"mask_weared_incorrect\",\"with_mask\"]\n",
    "def Avaliando_modelo(model, NWHead = None,x_test=X_test, y_test=y_test):\n",
    "    predIdxs = model.predict(x_test)\n",
    "\n",
    "    # for each image in the testing set we need to find the index of the\n",
    "    # label with corresponding largest predicted probability\n",
    "    #predIdxs = np.argmax(predIdxs, axis=1)\n",
    "\n",
    "    # show a nicely formatted classification report\n",
    "    # print(classification_report(y_test.argmax(axis=1), predIdxs,\n",
    "    #                             target_names=lb))\n",
    "    print(classification_report(y_test, predIdxs,\n",
    "                                target_names=lb))\n",
    "\n",
    "    # serialize the model to disk\n",
    "    print(\"[INFO] saving mask detector model...\")\n",
    "\n",
    "    if NWHead:\n",
    "        # plot the training loss and accuracy\n",
    "        N = 100\n",
    "        plt.style.use(\"ggplot\")\n",
    "        plt.figure()\n",
    "        plt.plot(np.arange(0, N), NWHead.history[\"loss\"], label=\"train_loss\")\n",
    "        plt.plot(np.arange(0, N), NWHead.history[\"val_loss\"], label=\"val_loss\")\n",
    "        plt.plot(np.arange(0, N), NWHead.history[\"accuracy\"], label=\"train_acc\")\n",
    "        plt.plot(np.arange(0, N), NWHead.history[\"val_accuracy\"], label=\"val_acc\")\n",
    "        plt.title(\"Training Loss and Accuracy\")\n",
    "        plt.xlabel(\"Epoch #\")\n",
    "        plt.ylabel(\"Loss/Accuracy\")\n",
    "        plt.legend(loc=\"lower left\")\n",
    "        plt.show()\n",
    "    #return classification_report(y_test.argmax(axis=1), predIdxs,\n",
    "     #                           target_names=lb,output_dict=True)"
   ]
  },
  {
   "cell_type": "code",
   "execution_count": 29,
   "metadata": {
    "ExecuteTime": {
     "end_time": "2020-10-13T17:14:42.582256Z",
     "start_time": "2020-10-13T17:12:26.007210Z"
    }
   },
   "outputs": [
    {
     "name": "stdout",
     "output_type": "stream",
     "text": [
      "                       precision    recall  f1-score   support\n",
      "\n",
      "         without_mask       0.94      0.90      0.92      2670\n",
      "mask_weared_incorrect       0.81      0.89      0.85      1907\n",
      "            with_mask       0.93      0.87      0.90      1947\n",
      "\n",
      "             accuracy                           0.89      6524\n",
      "            macro avg       0.89      0.89      0.89      6524\n",
      "         weighted avg       0.90      0.89      0.89      6524\n",
      "\n",
      "[INFO] saving mask detector model...\n"
     ]
    },
    {
     "ename": "AttributeError",
     "evalue": "'VotingClassifier' object has no attribute 'history'",
     "output_type": "error",
     "traceback": [
      "\u001b[1;31m---------------------------------------------------------------------------\u001b[0m",
      "\u001b[1;31mAttributeError\u001b[0m                            Traceback (most recent call last)",
      "\u001b[1;32m<ipython-input-29-2ef56f1a6ede>\u001b[0m in \u001b[0;36m<module>\u001b[1;34m\u001b[0m\n\u001b[1;32m----> 1\u001b[1;33m \u001b[0mAvaliando_modelo\u001b[0m\u001b[1;33m(\u001b[0m\u001b[0meclf2\u001b[0m\u001b[1;33m,\u001b[0m \u001b[0meclf2_H\u001b[0m\u001b[1;33m)\u001b[0m\u001b[1;33m\u001b[0m\u001b[1;33m\u001b[0m\u001b[0m\n\u001b[0m",
      "\u001b[1;32m<ipython-input-28-64df30d639ed>\u001b[0m in \u001b[0;36mAvaliando_modelo\u001b[1;34m(model, NWHead, x_test, y_test)\u001b[0m\n\u001b[0;32m     22\u001b[0m         \u001b[0mplt\u001b[0m\u001b[1;33m.\u001b[0m\u001b[0mstyle\u001b[0m\u001b[1;33m.\u001b[0m\u001b[0muse\u001b[0m\u001b[1;33m(\u001b[0m\u001b[1;34m\"ggplot\"\u001b[0m\u001b[1;33m)\u001b[0m\u001b[1;33m\u001b[0m\u001b[1;33m\u001b[0m\u001b[0m\n\u001b[0;32m     23\u001b[0m         \u001b[0mplt\u001b[0m\u001b[1;33m.\u001b[0m\u001b[0mfigure\u001b[0m\u001b[1;33m(\u001b[0m\u001b[1;33m)\u001b[0m\u001b[1;33m\u001b[0m\u001b[1;33m\u001b[0m\u001b[0m\n\u001b[1;32m---> 24\u001b[1;33m         \u001b[0mplt\u001b[0m\u001b[1;33m.\u001b[0m\u001b[0mplot\u001b[0m\u001b[1;33m(\u001b[0m\u001b[0mnp\u001b[0m\u001b[1;33m.\u001b[0m\u001b[0marange\u001b[0m\u001b[1;33m(\u001b[0m\u001b[1;36m0\u001b[0m\u001b[1;33m,\u001b[0m \u001b[0mN\u001b[0m\u001b[1;33m)\u001b[0m\u001b[1;33m,\u001b[0m \u001b[0mNWHead\u001b[0m\u001b[1;33m.\u001b[0m\u001b[0mhistory\u001b[0m\u001b[1;33m[\u001b[0m\u001b[1;34m\"loss\"\u001b[0m\u001b[1;33m]\u001b[0m\u001b[1;33m,\u001b[0m \u001b[0mlabel\u001b[0m\u001b[1;33m=\u001b[0m\u001b[1;34m\"train_loss\"\u001b[0m\u001b[1;33m)\u001b[0m\u001b[1;33m\u001b[0m\u001b[1;33m\u001b[0m\u001b[0m\n\u001b[0m\u001b[0;32m     25\u001b[0m         \u001b[0mplt\u001b[0m\u001b[1;33m.\u001b[0m\u001b[0mplot\u001b[0m\u001b[1;33m(\u001b[0m\u001b[0mnp\u001b[0m\u001b[1;33m.\u001b[0m\u001b[0marange\u001b[0m\u001b[1;33m(\u001b[0m\u001b[1;36m0\u001b[0m\u001b[1;33m,\u001b[0m \u001b[0mN\u001b[0m\u001b[1;33m)\u001b[0m\u001b[1;33m,\u001b[0m \u001b[0mNWHead\u001b[0m\u001b[1;33m.\u001b[0m\u001b[0mhistory\u001b[0m\u001b[1;33m[\u001b[0m\u001b[1;34m\"val_loss\"\u001b[0m\u001b[1;33m]\u001b[0m\u001b[1;33m,\u001b[0m \u001b[0mlabel\u001b[0m\u001b[1;33m=\u001b[0m\u001b[1;34m\"val_loss\"\u001b[0m\u001b[1;33m)\u001b[0m\u001b[1;33m\u001b[0m\u001b[1;33m\u001b[0m\u001b[0m\n\u001b[0;32m     26\u001b[0m         \u001b[0mplt\u001b[0m\u001b[1;33m.\u001b[0m\u001b[0mplot\u001b[0m\u001b[1;33m(\u001b[0m\u001b[0mnp\u001b[0m\u001b[1;33m.\u001b[0m\u001b[0marange\u001b[0m\u001b[1;33m(\u001b[0m\u001b[1;36m0\u001b[0m\u001b[1;33m,\u001b[0m \u001b[0mN\u001b[0m\u001b[1;33m)\u001b[0m\u001b[1;33m,\u001b[0m \u001b[0mNWHead\u001b[0m\u001b[1;33m.\u001b[0m\u001b[0mhistory\u001b[0m\u001b[1;33m[\u001b[0m\u001b[1;34m\"accuracy\"\u001b[0m\u001b[1;33m]\u001b[0m\u001b[1;33m,\u001b[0m \u001b[0mlabel\u001b[0m\u001b[1;33m=\u001b[0m\u001b[1;34m\"train_acc\"\u001b[0m\u001b[1;33m)\u001b[0m\u001b[1;33m\u001b[0m\u001b[1;33m\u001b[0m\u001b[0m\n",
      "\u001b[1;31mAttributeError\u001b[0m: 'VotingClassifier' object has no attribute 'history'"
     ]
    },
    {
     "data": {
      "text/plain": [
       "<Figure size 432x288 with 0 Axes>"
      ]
     },
     "metadata": {},
     "output_type": "display_data"
    }
   ],
   "source": [
    "Avaliando_modelo(eclf2, eclf2_H)"
   ]
  },
  {
   "cell_type": "code",
   "execution_count": null,
   "metadata": {},
   "outputs": [],
   "source": []
  }
 ],
 "metadata": {
  "kernelspec": {
   "display_name": "Python 3",
   "language": "python",
   "name": "python3"
  },
  "language_info": {
   "codemirror_mode": {
    "name": "ipython",
    "version": 3
   },
   "file_extension": ".py",
   "mimetype": "text/x-python",
   "name": "python",
   "nbconvert_exporter": "python",
   "pygments_lexer": "ipython3",
   "version": "3.6.10"
  }
 },
 "nbformat": 4,
 "nbformat_minor": 4
}
