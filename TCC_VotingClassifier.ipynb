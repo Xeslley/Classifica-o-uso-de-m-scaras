{
 "cells": [
  {
   "cell_type": "markdown",
   "metadata": {},
   "source": [
    "A ideia por trás do VotingClassifier é combinar classificadores de machine learn conceitualmente diferentes e usar um voto para prever os rótulos das classes. \n",
    "Tal classificador pode ser útil para um conjunto de modelos de desempenho igualmente bom, a fim de equilibrar suas fraquezas individuais.\n",
    "\n",
    "[Documentação](https://scikit-learn.org/stable/modules/generated/sklearn.ensemble.VotingClassifier.html#sklearn.ensemble.VotingClassifier)"
   ]
  },
  {
   "cell_type": "code",
   "execution_count": null,
   "metadata": {},
   "outputs": [],
   "source": [
    "from sklearn.ensemble import VotingClassifier\n",
    "from sklearn.model_selection import StratifiedShuffleSplit, train_test_split\n",
    "from sklearn.model_selection import GridSearchCV\n",
    "import pandas as pd\n",
    "import os\n",
    "from sklearn.linear_model import SGDClassifier\n",
    "from sklearn.neighbors import KNeighborsClassifier\n",
    "from sklearn.ensemble import RandomForestClassifier\n",
    "from sklearn.neural_network import MLPClassifier\n",
    "from sklearn.linear_model import LogisticRegression"
   ]
  },
  {
   "cell_type": "code",
   "execution_count": null,
   "metadata": {},
   "outputs": [],
   "source": [
    "# Loading some example data\n",
    "bases_prontas_path = os.path.join(\"D:\\\\\",\"FIA\",\"TCC\",\"BASES\",\"\")\n",
    "df = pd.read_csv(bases_prontas_path+'mask_dataset_vgg16_preprocess_input_224_224_3_feature_extracted.csv')\n",
    "X, y = df.drop(['im_path', 'class'], axis=1), df['class'].values\n",
    "\n",
    "label_transformer = preprocessing.LabelEncoder()\n",
    "label_transformer.fit(y)\n",
    "y = label_transformer.transform(y)\n",
    "\n",
    "cross_validation = StratifiedShuffleSplit(n_splits=7, test_size=0.3, random_state=42)"
   ]
  },
  {
   "cell_type": "code",
   "execution_count": null,
   "metadata": {},
   "outputs": [],
   "source": [
    "# Training classifiers\n",
    "clf1 = SGDClassifier(alpha=0.31622776601683794, max_iter=100, random_state=42, tol=1e-06, loss=\"hinge\", penalty = \"l2\")\n",
    "clf2 = KNeighborsClassifier(algorithm='brute', metric='braycurtis', n_neighbors=6, weights='distance')\n",
    "clf3 = KNeighborsClassifier(algorithm='brute', metric='braycurtis', n_neighbors=3, weights='distance')\n",
    "clf4 = LogisticRegression(C=50, l1_ratio=0, max_iter=10000, random_state=42, solver = \"liblinear\", penalty= \"l1\", class_weight = \"balanced\")\n",
    "clf5 = RandomForestClassifier(max_depth=1000, random_state=42, criterion= \"gini\", class_weight = \"balanced\")\n",
    "clf6 = MLPClassifier(solver='lbfgs', random_state=42, max_iter=1000, learning_rate=\"invscaling\")\n",
    "\n",
    "estimadores = [('sgd', clf1), \n",
    "               ('knn6', clf2), \n",
    "               ('knn3', clf3), \n",
    "               ('regLog', clf4),\n",
    "               ('RdnForest', clf5),\n",
    "               ('MLP', clf6)]\n",
    "\n",
    "\n",
    "eclf = VotingClassifier(estimators=estimadores, weights=[2, 1, 2])"
   ]
  },
  {
   "cell_type": "code",
   "execution_count": null,
   "metadata": {},
   "outputs": [],
   "source": [
    "params = {'voting': [\"hard\", \"soft\"]}\n",
    "grid = GridSearchCV(estimator=eclf, param_grid=params, cv=cross_validation)\n",
    "grid_historico = grid.fit(X, y)"
   ]
  },
  {
   "cell_type": "code",
   "execution_count": null,
   "metadata": {},
   "outputs": [],
   "source": [
    "X_train, X_test, y_train, y_test = train_test_split(X, y, test_size=0.50, random_state=42)\n",
    "\n",
    "grid.score(X_test, y_test)"
   ]
  }
 ],
 "metadata": {
  "kernelspec": {
   "display_name": "Python 3",
   "language": "python",
   "name": "python3"
  },
  "language_info": {
   "codemirror_mode": {
    "name": "ipython",
    "version": 3
   },
   "file_extension": ".py",
   "mimetype": "text/x-python",
   "name": "python",
   "nbconvert_exporter": "python",
   "pygments_lexer": "ipython3",
   "version": "3.6.10"
  }
 },
 "nbformat": 4,
 "nbformat_minor": 4
}
