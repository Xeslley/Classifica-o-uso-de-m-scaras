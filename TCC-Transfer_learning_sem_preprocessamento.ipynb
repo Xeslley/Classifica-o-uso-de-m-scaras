{
 "cells": [
  {
   "cell_type": "code",
   "execution_count": 1,
   "metadata": {
    "ExecuteTime": {
     "end_time": "2020-10-01T20:29:17.495499Z",
     "start_time": "2020-10-01T20:29:11.882237Z"
    }
   },
   "outputs": [],
   "source": [
    "from tensorflow.keras.preprocessing.image import ImageDataGenerator\n",
    "from tensorflow.keras.applications import MobileNetV2, ResNet152V2, ResNet50V2, xception\n",
    "from tensorflow.keras.layers import AveragePooling2D\n",
    "from tensorflow.keras.layers import Dropout\n",
    "from tensorflow.keras.layers import Flatten\n",
    "from tensorflow.keras.layers import Dense\n",
    "from tensorflow.keras.layers import Input\n",
    "from tensorflow.keras.models import Model\n",
    "from tensorflow.keras.optimizers import Adam\n",
    "from tensorflow.keras.preprocessing.image import img_to_array\n",
    "from tensorflow.keras.preprocessing.image import load_img\n",
    "from tensorflow.keras.utils import to_categorical\n",
    "from sklearn.preprocessing import LabelEncoder\n",
    "from sklearn.model_selection import train_test_split\n",
    "from sklearn.metrics import classification_report\n",
    "import matplotlib.pyplot as plt\n",
    "import numpy as np\n",
    "import argparse\n",
    "import pandas as pd\n",
    "import glob\n",
    "import os\n",
    "import cv2\n",
    "import random as rand\n",
    "import os\n",
    "import xml.etree.ElementTree as et\n",
    "import re\n",
    "import pandas as pd"
   ]
  },
  {
   "cell_type": "code",
   "execution_count": 2,
   "metadata": {
    "ExecuteTime": {
     "end_time": "2020-10-01T20:29:17.503185Z",
     "start_time": "2020-10-01T20:29:17.495499Z"
    }
   },
   "outputs": [
    {
     "name": "stdout",
     "output_type": "stream",
     "text": [
      "D:\\FIA\\TCC\\BASES\\\n"
     ]
    }
   ],
   "source": [
    "bases_prontas_path = os.path.join(\"D:\\\\\",\"FIA\",\"TCC\",\"BASES\",\"\")\n",
    "print(bases_prontas_path)"
   ]
  },
  {
   "cell_type": "markdown",
   "metadata": {},
   "source": [
    "## Criar modelos com transfer learning"
   ]
  },
  {
   "cell_type": "code",
   "execution_count": 3,
   "metadata": {
    "ExecuteTime": {
     "end_time": "2020-10-01T20:29:23.602229Z",
     "start_time": "2020-10-01T20:29:17.505161Z"
    }
   },
   "outputs": [
    {
     "name": "stderr",
     "output_type": "stream",
     "text": [
      "C:\\Users\\wesle\\anaconda3\\envs\\py3_6_tensorflow2_1\\lib\\site-packages\\keras_applications\\mobilenet_v2.py:294: UserWarning: `input_shape` is undefined or non-square, or `rows` is not in [96, 128, 160, 192, 224]. Weights for input shape (224, 224) will be loaded as the default.\n",
      "  warnings.warn('`input_shape` is undefined or non-square, '\n"
     ]
    }
   ],
   "source": [
    "baseModel_MobileNetV2 = MobileNetV2(weights=\"imagenet\", include_top=False,\n",
    "                        input_tensor=Input(shape=(64, 64, 3)))"
   ]
  },
  {
   "cell_type": "code",
   "execution_count": 24,
   "metadata": {
    "ExecuteTime": {
     "end_time": "2020-10-02T11:41:37.313862Z",
     "start_time": "2020-10-02T11:41:36.913446Z"
    }
   },
   "outputs": [],
   "source": [
    "# construct the head of the model that will be placed on top of the\n",
    "# the base model\n",
    "headModel_MobileNetV2 = baseModel_MobileNetV2.output\n",
    "# headModel_MobileNetV2 = AveragePooling2D(pool_size=(7, 7))(headModel_MobileNetV2)\n",
    "headModel_MobileNetV2 = AveragePooling2D(pool_size=(2, 2))(headModel_MobileNetV2)\n",
    "headModel_MobileNetV2 = Flatten(name=\"flatten\")(headModel_MobileNetV2)\n",
    "headModel_MobileNetV2 = Dense(12288, activation=\"relu\")(headModel_MobileNetV2)\n",
    "headModel_MobileNetV2 = Dropout(0.3)(headModel_MobileNetV2)\n",
    "headModel_MobileNetV2 = Dense(4096, activation=\"relu\")(headModel_MobileNetV2)\n",
    "headModel_MobileNetV2 = Dropout(0.3)(headModel_MobileNetV2)\n",
    "headModel_MobileNetV2 = Dense(3, activation=\"softmax\")(headModel_MobileNetV2)\n",
    "\n",
    "# place the head FC model on top of the base model (this will become\n",
    "# the actual model we will train)\n",
    "model_based_MobileNetV2 = Model(inputs=baseModel_MobileNetV2.input, outputs=headModel_MobileNetV2)\n",
    "\n",
    "# loop over all layers in the base model and freeze them so they will\n",
    "# *not* be updated during the first training process\n",
    "for layer in baseModel_MobileNetV2.layers:\n",
    "    layer.trainable = False"
   ]
  },
  {
   "cell_type": "code",
   "execution_count": 25,
   "metadata": {
    "ExecuteTime": {
     "end_time": "2020-10-02T11:41:53.949015Z",
     "start_time": "2020-10-02T11:41:51.911568Z"
    }
   },
   "outputs": [
    {
     "name": "stderr",
     "output_type": "stream",
     "text": [
      "C:\\Users\\wesle\\anaconda3\\envs\\py3_6_tensorflow2_1\\lib\\site-packages\\keras_applications\\mobilenet_v2.py:294: UserWarning: `input_shape` is undefined or non-square, or `rows` is not in [96, 128, 160, 192, 224]. Weights for input shape (224, 224) will be loaded as the default.\n",
      "  warnings.warn('`input_shape` is undefined or non-square, '\n"
     ]
    }
   ],
   "source": [
    "baseModel_MobileNetV2_224 = MobileNetV2(weights=\"imagenet\", include_top=False,\n",
    "                        input_tensor=Input(shape=(224, 224, 3)))\n",
    "# construct the head of the model that will be placed on top of the\n",
    "# the base model\n",
    "headModel_MobileNetV2_224 = baseModel_MobileNetV2_224.output\n",
    "headModel_MobileNetV2_224 = AveragePooling2D(pool_size=(7, 7))(headModel_MobileNetV2_224)\n",
    "headModel_MobileNetV2_224 = Flatten(name=\"flatten\")(headModel_MobileNetV2_224)\n",
    "headModel_MobileNetV2_224 = Dense(12288, activation=\"relu\")(headModel_MobileNetV2_224)\n",
    "headModel_MobileNetV2_224 = Dropout(0.3)(headModel_MobileNetV2_224)\n",
    "headModel_MobileNetV2_224 = Dense(4096, activation=\"relu\")(headModel_MobileNetV2_224)\n",
    "headModel_MobileNetV2_224 = Dropout(0.3)(headModel_MobileNetV2_224)\n",
    "headModel_MobileNetV2_224 = Dense(3, activation=\"softmax\")(headModel_MobileNetV2_224)\n",
    "\n",
    "\n",
    "# place the head FC model on top of the base model (this will become\n",
    "# the actual model we will train)\n",
    "model_based_MobileNetV2_224 = Model(inputs=baseModel_MobileNetV2_224.input, outputs=headModel_MobileNetV2_224)\n",
    "\n",
    "# loop over all layers in the base model and freeze them so they will\n",
    "# *not* be updated during the first training process\n",
    "for layer in baseModel_MobileNetV2_224.layers:\n",
    "    layer.trainable = False"
   ]
  },
  {
   "cell_type": "code",
   "execution_count": 6,
   "metadata": {
    "ExecuteTime": {
     "end_time": "2020-09-10T00:39:01.576878Z",
     "start_time": "2020-09-10T00:38:55.685501Z"
    }
   },
   "outputs": [],
   "source": [
    "# baseModel_ResNet152V2 = ResNet152V2(weights=\"imagenet\", include_top=False,\n",
    "#                         input_tensor=Input(shape=(224, 224, 3)))\n",
    "baseModel_ResNet152V2 = ResNet152V2(weights=\"imagenet\", include_top=False,\n",
    "                        input_tensor=Input(shape=(64, 64, 3)))"
   ]
  },
  {
   "cell_type": "code",
   "execution_count": null,
   "metadata": {
    "ExecuteTime": {
     "end_time": "2020-09-08T17:36:21.078443Z",
     "start_time": "2020-09-08T17:36:20.770243Z"
    }
   },
   "outputs": [],
   "source": [
    "# construct the head of the model that will be placed on top of the\n",
    "# the base model\n",
    "headModel_ResNet152V2 = baseModel_ResNet152V2.output\n",
    "# headModel_ResNet152V2 = AveragePooling2D(pool_size=(7, 7))(headModel_ResNet152V2)\n",
    "headModel_ResNet152V2 = AveragePooling2D(pool_size=(2, 2))(headModel_ResNet152V2)\n",
    "headModel_ResNet152V2 = Flatten(name=\"flatten\")(headModel_ResNet152V2)\n",
    "headModel_ResNet152V2 = Dense(64, activation=\"relu\")(headModel_ResNet152V2)\n",
    "headModel_ResNet152V2 = Dropout(0.5)(headModel_ResNet152V2)\n",
    "headModel_ResNet152V2 = Dense(3, activation=\"softmax\")(headModel_ResNet152V2)\n",
    "\n",
    "# place the head FC model on top of the base model (this will become\n",
    "# the actual model we will train)\n",
    "model_based_ResNet152V2 = Model(inputs=baseModel_ResNet152V2.input, outputs=headModel_ResNet152V2)\n",
    "\n",
    "# loop over all layers in the base model and freeze them so they will\n",
    "# *not* be updated during the first training process\n",
    "for layer in baseModel_ResNet152V2.layers:\n",
    "    layer.trainable = False"
   ]
  },
  {
   "cell_type": "code",
   "execution_count": null,
   "metadata": {
    "ExecuteTime": {
     "end_time": "2020-09-08T17:36:51.846827Z",
     "start_time": "2020-09-08T17:36:49.296530Z"
    }
   },
   "outputs": [],
   "source": [
    "# baseModel_ResNet50V2 = ResNet50V2(weights=\"imagenet\", include_top=False,\n",
    "#                         input_tensor=Input(shape=(224, 224, 3)))\n",
    "baseModel_ResNet50V2 = ResNet50V2(weights=\"imagenet\", include_top=False,\n",
    "                        input_tensor=Input(shape=(64, 64, 3)))"
   ]
  },
  {
   "cell_type": "code",
   "execution_count": null,
   "metadata": {
    "ExecuteTime": {
     "end_time": "2020-09-08T17:36:51.932597Z",
     "start_time": "2020-09-08T17:36:51.848823Z"
    }
   },
   "outputs": [],
   "source": [
    "# construct the head of the model that will be placed on top of the\n",
    "# the base model\n",
    "headModel_ResNet50V2 = baseModel_ResNet50V2.output\n",
    "# headModel_ResNet50V2 = AveragePooling2D(pool_size=(7, 7))(headModel_ResNet50V2)\n",
    "headModel_ResNet50V2 = AveragePooling2D(pool_size=(2, 2))(headModel_ResNet50V2)\n",
    "headModel_ResNet50V2 = Flatten(name=\"flatten\")(headModel_ResNet50V2)\n",
    "headModel_ResNet50V2 = Dense(64, activation=\"relu\")(headModel_ResNet50V2)\n",
    "headModel_ResNet50V2 = Dropout(0.5)(headModel_ResNet50V2)\n",
    "headModel_ResNet50V2 = Dense(3, activation=\"softmax\")(headModel_ResNet50V2)\n",
    "\n",
    "# place the head FC model on top of the base model (this will become\n",
    "# the actual model we will train)\n",
    "model_based_ResNet50V2 = Model(inputs=baseModel_ResNet50V2.input, outputs=headModel_ResNet50V2)\n",
    "\n",
    "# loop over all layers in the base model and freeze them so they will\n",
    "# *not* be updated during the first training process\n",
    "for layer in baseModel_ResNet50V2.layers:\n",
    "    layer.trainable = False"
   ]
  },
  {
   "cell_type": "code",
   "execution_count": null,
   "metadata": {
    "ExecuteTime": {
     "end_time": "2020-09-08T17:36:54.924449Z",
     "start_time": "2020-09-08T17:36:53.068413Z"
    }
   },
   "outputs": [],
   "source": [
    "# baseModel_xception = xception.Xception(weights=\"imagenet\", include_top=False,\n",
    "#                         input_tensor=Input(shape=(224, 224, 3)))\n",
    "baseModel_xception = xception.Xception(weights=\"imagenet\", include_top=False,\n",
    "                        input_tensor=Input(shape=(64, 64, 3)))"
   ]
  },
  {
   "cell_type": "code",
   "execution_count": null,
   "metadata": {
    "ExecuteTime": {
     "end_time": "2020-09-08T17:37:11.203304Z",
     "start_time": "2020-09-08T17:37:11.107578Z"
    }
   },
   "outputs": [],
   "source": [
    "# construct the head of the model that will be placed on top of the\n",
    "# the base model\n",
    "headModel_xception = baseModel_xception.output\n",
    "# headModel_xception = AveragePooling2D(pool_size=(7, 7))(headModel_xception)\n",
    "headModel_xception = AveragePooling2D(pool_size=(2, 2))(headModel_xception)\n",
    "headModel_xception = Flatten(name=\"flatten\")(headModel_xception)\n",
    "headModel_xception = Dense(64, activation=\"relu\")(headModel_xception)\n",
    "headModel_xception = Dropout(0.5)(headModel_xception)\n",
    "headModel_xception = Dense(3, activation=\"softmax\")(headModel_xception)\n",
    "\n",
    "# place the head FC model on top of the base model (this will become\n",
    "# the actual model we will train)\n",
    "model_based_xception = Model(inputs=baseModel_xception.input, outputs=headModel_xception)\n",
    "\n",
    "# loop over all layers in the base model and freeze them so they will\n",
    "# *not* be updated during the first training process\n",
    "for layer in baseModel_xception.layers:\n",
    "    layer.trainable = False"
   ]
  },
  {
   "cell_type": "code",
   "execution_count": 6,
   "metadata": {
    "ExecuteTime": {
     "end_time": "2020-10-01T20:29:27.664939Z",
     "start_time": "2020-10-01T20:29:27.659926Z"
    }
   },
   "outputs": [],
   "source": [
    "INIT_LR = 1e-4\n",
    "EPOCHS = 100\n",
    "BS = 1\n",
    "\n",
    "\n",
    "# https://www.tensorflow.org/api_docs/python/tf/keras/preprocessing/image/ImageDataGenerator\n",
    "\"\"\"\n",
    "featurewise_center ==> Boleano. Defina a média de entrada como 0 no conjunto de dados, em termos de recursos.\n",
    "samplewise_center ==> Boleano. Defina cada média de amostra como 0.\n",
    "featurewise_std_normalization ==> Boleano. Divida as entradas por padrão do conjunto de dados, em termos de recursos.\n",
    "samplewise_std_normalization ==> Boleano. Divida cada entrada por seu padrão.\n",
    "zca_epsilon ==> epsilon para clareamento ZCA. O padrão é 1e-6.\n",
    "zca_whitening ==> Boleano. Aplique o clareamento ZCA.\n",
    "rotation_range ==> Int. Faixa de graus para rotações aleatórias.\n",
    "width_shift_range ==> Flutuante, semelhante a uma matriz 1-D ou int\n",
    "                    * float: fração da largura total, se <1, ou pixels se> = 1.\n",
    "                    * 1-D tipo array: elementos aleatórios do array.\n",
    "                    * int: número inteiro de pixels do intervalo (-width_shift_range, +width_shift_range)\n",
    "                    * Com width_shift_range=2valores possíveis são inteiros [-1, 0, +1],\n",
    "                      o mesmo que com width_shift_range=[-1, 0, +1], \n",
    "                      enquanto com width_shift_range=1.0\n",
    "                      valores possíveis são flutuantes no intervalo [-1,0, +1,0).\n",
    "height_shift_range ==> Flutuante, semelhante a uma matriz 1-D ou int\n",
    "                    * float: fração da altura total, se <1, ou pixels se> = 1.\n",
    "                    * 1-D tipo array: elementos aleatórios do array.\n",
    "                    * int: número inteiro de pixels do intervalo (-height_shift_range, +height_shift_range)\n",
    "                    * Com height_shift_range=2valores possíveis são inteiros [-1, 0, +1], \n",
    "                      o mesmo que com height_shift_range=[-1, 0, +1], \n",
    "                      enquanto com height_shift_range=1.0valores possíveis são flutuantes no intervalo [-1,0, +1,0).\n",
    "brightness_range ==> Tupla ou lista de dois flutuadores. Faixa para escolher um valor de mudança de brilho.\n",
    "\n",
    "shear_range ==> Flutuador. Intensidade de cisalhamento (ângulo de cisalhamento no sentido anti-horário em graus)\n",
    "zoom_range ==> Flutuar ou [inferior, superior]. Intervalo para zoom aleatório. Se um flutuador ,. \n",
    "               [lower, upper] = [1-zoom_range, 1+zoom_range]\n",
    "\n",
    "channel_shift_range ==> Flutuador. Intervalo para mudanças de canal aleatórias.\n",
    "fill_mode ==> Um de {\"constante\", \"mais próximo\", \"refletir\" ou \"embrulhar\"}. \n",
    "              O padrão é 'mais próximo'. Os pontos fora dos limites da entrada são preenchidos de acordo com o modo fornecido:\n",
    "                * 'constant': kkkkkkkk|abcd|kkkkkkkk (cval=k)\n",
    "                * 'mais próximo': aaaaaaaa | abcd | dddddddd\n",
    "                * 'refletir': abcddcba | abcd | dcbaabcd\n",
    "                * 'wrap': abcdabcd | abcd | abcdabcd\n",
    "cval ==> Float ou Int. Valor usado para pontos fora dos limites quando . fill_mode = \"constant\"\n",
    "horizontal_flip ==> Boleano. Inverta aleatoriamente as entradas horizontalmente.\n",
    "vertical_flip ==> Boleano. Inverta aleatoriamente as entradas verticalmente.\n",
    "rescale ==> fator de reescalonamento. O padrão é Nenhum. Se Nenhum ou 0, nenhum redimensionamento é aplicado, caso contrário, multiplicamos os dados pelo valor fornecido (após aplicar todas as outras transformações).\n",
    "preprocessing_function ==> função que será aplicada em cada entrada. A função será executada depois que a imagem for redimensionada e aumentada. A função deve ter um argumento: uma imagem (tensor Numpy com classificação 3) e deve gerar um tensor Numpy com a mesma forma.\n",
    "data_format ==> Formato de dados de imagem, \"channels_first\" ou \"channels_last\". O modo \"channels_last\" significa que as imagens devem ter forma , o modo \"channels_first\" significa que as imagens devem ter forma . O padrão é o valor encontrado no arquivo de configuração do Keras em . Se você nunca configurá-lo, ele será \"channels_last\". (samples, height, width, channels)(samples, channels, height, width)image_data_format~/.keras/keras.json\n",
    "validation_split ==> Flutuador. Fração de imagens reservada para validação (estritamente entre 0 e 1).\n",
    "\"\"\"\n",
    "aug = ImageDataGenerator(\n",
    "    zoom_range=0.1,\n",
    "    width_shift_range=0.1,\n",
    "    height_shift_range=0.1,\n",
    "    shear_range=0.15,\n",
    "    fill_mode=\"nearest\"\n",
    "    )"
   ]
  },
  {
   "cell_type": "code",
   "execution_count": 8,
   "metadata": {
    "ExecuteTime": {
     "end_time": "2020-10-01T20:30:04.178202Z",
     "start_time": "2020-10-01T20:30:04.173222Z"
    }
   },
   "outputs": [
    {
     "name": "stdout",
     "output_type": "stream",
     "text": [
      "[INFO] compiling model...\n"
     ]
    }
   ],
   "source": [
    "print(\"[INFO] compiling model...\")\n",
    "opt1 = Adam(lr=INIT_LR, decay=INIT_LR / EPOCHS)\n",
    "# opt2 = SGD(lr=1e-3, decay=1e-6, momentum=0.9, nesterov=True)"
   ]
  },
  {
   "cell_type": "markdown",
   "metadata": {},
   "source": [
    "## Compilar e treinar os modelos criados"
   ]
  },
  {
   "cell_type": "code",
   "execution_count": 22,
   "metadata": {
    "ExecuteTime": {
     "end_time": "2020-10-02T11:35:06.122294Z",
     "start_time": "2020-10-02T11:35:01.175333Z"
    }
   },
   "outputs": [],
   "source": [
    "dataset = np.load(bases_prontas_path+'mask_dataset_mobilenet_v2_preprocess_input_64_64_3.npy')\n",
    "# dataset = np.load(bases_prontas_path+'mask_dataset_mobilenet_v2_preprocess_input_224_224_3_2_categorias.npy')\n",
    "target = np.load(bases_prontas_path+'mask_dataset_labels.npy')\n",
    "(trainX, testX, trainY, testY) = train_test_split(dataset, target,\n",
    "                                                  test_size=0.3, stratify=target, random_state=42)"
   ]
  },
  {
   "cell_type": "code",
   "execution_count": 16,
   "metadata": {
    "ExecuteTime": {
     "end_time": "2020-10-01T20:32:17.967569Z",
     "start_time": "2020-10-01T20:32:17.962582Z"
    }
   },
   "outputs": [
    {
     "name": "stdout",
     "output_type": "stream",
     "text": [
      "21744\n",
      "21744\n",
      "(21744, 64, 64, 3)\n",
      "(21744, 3)\n",
      "15220\n",
      "15220\n",
      "6524\n",
      "6524\n"
     ]
    }
   ],
   "source": [
    "print(len(dataset))\n",
    "print(len(target))\n",
    "print(dataset.shape)\n",
    "print(target.shape)\n",
    "print(len(trainX))\n",
    "print(len(trainY))\n",
    "print(len(testX))\n",
    "print(len(testY))"
   ]
  },
  {
   "cell_type": "code",
   "execution_count": 26,
   "metadata": {
    "ExecuteTime": {
     "end_time": "2020-10-02T21:44:38.905209Z",
     "start_time": "2020-10-02T11:44:42.577766Z"
    }
   },
   "outputs": [
    {
     "name": "stdout",
     "output_type": "stream",
     "text": [
      "[INFO] training head...\n",
      "Train on 15220 samples, validate on 6524 samples\n",
      "Epoch 1/100\n",
      "15220/15220 [==============================] - 322s 21ms/sample - loss: 1.1058 - accuracy: 0.3825 - val_loss: 1.0944 - val_accuracy: 0.3998\n",
      "Epoch 2/100\n",
      "15220/15220 [==============================] - 317s 21ms/sample - loss: 1.0903 - accuracy: 0.3914 - val_loss: 1.1021 - val_accuracy: 0.3998\n",
      "Epoch 3/100\n",
      "15220/15220 [==============================] - 319s 21ms/sample - loss: 1.0895 - accuracy: 0.3926 - val_loss: 1.1125 - val_accuracy: 0.3998\n",
      "Epoch 4/100\n",
      "15220/15220 [==============================] - 321s 21ms/sample - loss: 1.0876 - accuracy: 0.3957 - val_loss: 1.0940 - val_accuracy: 0.3996\n",
      "Epoch 5/100\n",
      "15220/15220 [==============================] - 318s 21ms/sample - loss: 1.0845 - accuracy: 0.3991 - val_loss: 1.0986 - val_accuracy: 0.3968\n",
      "Epoch 6/100\n",
      "15220/15220 [==============================] - 318s 21ms/sample - loss: 1.0765 - accuracy: 0.4138 - val_loss: 1.1815 - val_accuracy: 0.3036\n",
      "Epoch 7/100\n",
      "15220/15220 [==============================] - 321s 21ms/sample - loss: 1.0698 - accuracy: 0.4181 - val_loss: 1.1321 - val_accuracy: 0.3722\n",
      "Epoch 8/100\n",
      "15220/15220 [==============================] - 322s 21ms/sample - loss: 1.0612 - accuracy: 0.4353 - val_loss: 1.2861 - val_accuracy: 0.3046\n",
      "Epoch 9/100\n",
      "15220/15220 [==============================] - 319s 21ms/sample - loss: 1.0536 - accuracy: 0.4474 - val_loss: 2.1267 - val_accuracy: 0.3001\n",
      "Epoch 10/100\n",
      "15220/15220 [==============================] - 320s 21ms/sample - loss: 1.0464 - accuracy: 0.4525 - val_loss: 1.9637 - val_accuracy: 0.3015\n",
      "Epoch 11/100\n",
      "15220/15220 [==============================] - 319s 21ms/sample - loss: 1.0391 - accuracy: 0.4578 - val_loss: 1.7612 - val_accuracy: 0.3021\n",
      "Epoch 12/100\n",
      "15220/15220 [==============================] - 321s 21ms/sample - loss: 1.0289 - accuracy: 0.4689 - val_loss: 1.7230 - val_accuracy: 0.3055\n",
      "Epoch 13/100\n",
      "15220/15220 [==============================] - 318s 21ms/sample - loss: 1.0201 - accuracy: 0.4807 - val_loss: 1.3659 - val_accuracy: 0.2969\n",
      "Epoch 14/100\n",
      "15220/15220 [==============================] - 320s 21ms/sample - loss: 1.0102 - accuracy: 0.4835 - val_loss: 1.8134 - val_accuracy: 0.3055\n",
      "Epoch 15/100\n",
      "15220/15220 [==============================] - 322s 21ms/sample - loss: 0.9997 - accuracy: 0.4957 - val_loss: 1.8403 - val_accuracy: 0.3044\n",
      "Epoch 16/100\n",
      "15220/15220 [==============================] - 320s 21ms/sample - loss: 0.9883 - accuracy: 0.4996 - val_loss: 2.0760 - val_accuracy: 0.3086\n",
      "Epoch 17/100\n",
      "15220/15220 [==============================] - 318s 21ms/sample - loss: 0.9793 - accuracy: 0.5033 - val_loss: 1.9901 - val_accuracy: 0.3061\n",
      "Epoch 18/100\n",
      "15220/15220 [==============================] - 320s 21ms/sample - loss: 0.9646 - accuracy: 0.5133 - val_loss: 1.3077 - val_accuracy: 0.3046\n",
      "Epoch 19/100\n",
      "15220/15220 [==============================] - 319s 21ms/sample - loss: 0.9502 - accuracy: 0.5185 - val_loss: 1.4332 - val_accuracy: 0.3478\n",
      "Epoch 20/100\n",
      "15220/15220 [==============================] - 319s 21ms/sample - loss: 0.9336 - accuracy: 0.5304 - val_loss: 1.1221 - val_accuracy: 0.4007\n",
      "Epoch 21/100\n",
      "15220/15220 [==============================] - 316s 21ms/sample - loss: 0.9160 - accuracy: 0.5428 - val_loss: 1.3398 - val_accuracy: 0.3084\n",
      "Epoch 22/100\n",
      "15220/15220 [==============================] - 320s 21ms/sample - loss: 0.8999 - accuracy: 0.5500 - val_loss: 1.5371 - val_accuracy: 0.3029\n",
      "Epoch 23/100\n",
      "15220/15220 [==============================] - 321s 21ms/sample - loss: 0.8768 - accuracy: 0.5696 - val_loss: 1.2894 - val_accuracy: 0.3023\n",
      "Epoch 24/100\n",
      "15220/15220 [==============================] - 319s 21ms/sample - loss: 0.8558 - accuracy: 0.5831 - val_loss: 1.2754 - val_accuracy: 0.3018\n",
      "Epoch 25/100\n",
      "15220/15220 [==============================] - 319s 21ms/sample - loss: 0.8326 - accuracy: 0.5961 - val_loss: 1.1482 - val_accuracy: 0.3582\n",
      "Epoch 26/100\n",
      "15220/15220 [==============================] - 316s 21ms/sample - loss: 0.8111 - accuracy: 0.6105 - val_loss: 1.1708 - val_accuracy: 0.3147\n",
      "Epoch 27/100\n",
      "15220/15220 [==============================] - 319s 21ms/sample - loss: 0.7808 - accuracy: 0.6334 - val_loss: 1.5236 - val_accuracy: 0.3112\n",
      "Epoch 28/100\n",
      "15220/15220 [==============================] - 315s 21ms/sample - loss: 0.7468 - accuracy: 0.6535 - val_loss: 1.7792 - val_accuracy: 0.3001\n",
      "Epoch 29/100\n",
      "15220/15220 [==============================] - 319s 21ms/sample - loss: 0.7107 - accuracy: 0.6770 - val_loss: 2.0639 - val_accuracy: 0.3000\n",
      "Epoch 30/100\n",
      "15220/15220 [==============================] - 319s 21ms/sample - loss: 0.6722 - accuracy: 0.7007 - val_loss: 5.0500 - val_accuracy: 0.3001\n",
      "Epoch 31/100\n",
      "15220/15220 [==============================] - 326s 21ms/sample - loss: 0.6277 - accuracy: 0.7252 - val_loss: 5.7733 - val_accuracy: 0.3001\n",
      "Epoch 32/100\n",
      "15220/15220 [==============================] - 325s 21ms/sample - loss: 0.5828 - accuracy: 0.7541 - val_loss: 4.1529 - val_accuracy: 0.3001\n",
      "Epoch 33/100\n",
      "15220/15220 [==============================] - 318s 21ms/sample - loss: 0.5426 - accuracy: 0.7727 - val_loss: 5.5638 - val_accuracy: 0.3001\n",
      "Epoch 34/100\n",
      "15220/15220 [==============================] - 320s 21ms/sample - loss: 0.4978 - accuracy: 0.7981 - val_loss: 7.5386 - val_accuracy: 0.3001\n",
      "Epoch 35/100\n",
      "15220/15220 [==============================] - 321s 21ms/sample - loss: 0.4539 - accuracy: 0.8189 - val_loss: 9.7268 - val_accuracy: 0.3001\n",
      "Epoch 36/100\n",
      "15220/15220 [==============================] - 323s 21ms/sample - loss: 0.4081 - accuracy: 0.8380 - val_loss: 8.6021 - val_accuracy: 0.3001\n",
      "Epoch 37/100\n",
      "15220/15220 [==============================] - 323s 21ms/sample - loss: 0.3709 - accuracy: 0.8595 - val_loss: 10.2661 - val_accuracy: 0.3001\n",
      "Epoch 38/100\n",
      "15220/15220 [==============================] - 324s 21ms/sample - loss: 0.3360 - accuracy: 0.8722 - val_loss: 13.5825 - val_accuracy: 0.3001\n",
      "Epoch 39/100\n",
      "15220/15220 [==============================] - 321s 21ms/sample - loss: 0.3177 - accuracy: 0.8848 - val_loss: 13.8769 - val_accuracy: 0.3001\n",
      "Epoch 40/100\n",
      "15220/15220 [==============================] - 318s 21ms/sample - loss: 0.2582 - accuracy: 0.9066 - val_loss: 15.7938 - val_accuracy: 0.3001\n",
      "Epoch 41/100\n",
      "15220/15220 [==============================] - 321s 21ms/sample - loss: 0.2568 - accuracy: 0.9074 - val_loss: 12.1470 - val_accuracy: 0.3000\n",
      "Epoch 42/100\n",
      "15220/15220 [==============================] - 322s 21ms/sample - loss: 0.2324 - accuracy: 0.9175 - val_loss: 20.2172 - val_accuracy: 0.3001\n",
      "Epoch 43/100\n",
      "15220/15220 [==============================] - 319s 21ms/sample - loss: 0.2149 - accuracy: 0.9256 - val_loss: 31.4180 - val_accuracy: 0.3001\n",
      "Epoch 44/100\n",
      "15220/15220 [==============================] - 317s 21ms/sample - loss: 0.1732 - accuracy: 0.9388 - val_loss: 46.0148 - val_accuracy: 0.3001\n",
      "Epoch 45/100\n",
      "15220/15220 [==============================] - 317s 21ms/sample - loss: 0.1856 - accuracy: 0.9371 - val_loss: 30.1817 - val_accuracy: 0.3001\n",
      "Epoch 46/100\n",
      "15220/15220 [==============================] - 317s 21ms/sample - loss: 0.1683 - accuracy: 0.9424 - val_loss: 20.3532 - val_accuracy: 0.3001\n",
      "Epoch 47/100\n",
      "15220/15220 [==============================] - 320s 21ms/sample - loss: 0.1617 - accuracy: 0.9447 - val_loss: 31.5830 - val_accuracy: 0.3001\n",
      "Epoch 48/100\n",
      "15220/15220 [==============================] - 319s 21ms/sample - loss: 0.1517 - accuracy: 0.9456 - val_loss: 10.2904 - val_accuracy: 0.3001\n",
      "Epoch 49/100\n",
      "15220/15220 [==============================] - 321s 21ms/sample - loss: 0.1455 - accuracy: 0.9497 - val_loss: 20.2464 - val_accuracy: 0.3001\n",
      "Epoch 50/100\n",
      "15220/15220 [==============================] - 320s 21ms/sample - loss: 0.1150 - accuracy: 0.9606 - val_loss: 31.3760 - val_accuracy: 0.3001\n",
      "Epoch 51/100\n",
      "15220/15220 [==============================] - 321s 21ms/sample - loss: 0.1121 - accuracy: 0.9639 - val_loss: 30.3313 - val_accuracy: 0.3001\n",
      "Epoch 52/100\n",
      "15220/15220 [==============================] - 320s 21ms/sample - loss: 0.1091 - accuracy: 0.9628 - val_loss: 20.4145 - val_accuracy: 0.3001\n",
      "Epoch 53/100\n",
      "15220/15220 [==============================] - 321s 21ms/sample - loss: 0.0999 - accuracy: 0.9656 - val_loss: 25.6077 - val_accuracy: 0.3001\n",
      "Epoch 54/100\n"
     ]
    },
    {
     "name": "stdout",
     "output_type": "stream",
     "text": [
      "15220/15220 [==============================] - 321s 21ms/sample - loss: 0.1118 - accuracy: 0.9627 - val_loss: 29.1537 - val_accuracy: 0.3001\n",
      "Epoch 55/100\n",
      "15220/15220 [==============================] - 320s 21ms/sample - loss: 0.0948 - accuracy: 0.9689 - val_loss: 27.4848 - val_accuracy: 0.3001\n",
      "Epoch 56/100\n",
      "15220/15220 [==============================] - 322s 21ms/sample - loss: 0.0909 - accuracy: 0.9707 - val_loss: 33.7738 - val_accuracy: 0.3001\n",
      "Epoch 57/100\n",
      "15220/15220 [==============================] - 317s 21ms/sample - loss: 0.0862 - accuracy: 0.9724 - val_loss: 29.2025 - val_accuracy: 0.3001\n",
      "Epoch 58/100\n",
      "15220/15220 [==============================] - 315s 21ms/sample - loss: 0.0876 - accuracy: 0.9713 - val_loss: 28.7013 - val_accuracy: 0.3001\n",
      "Epoch 59/100\n",
      "15220/15220 [==============================] - 4187s 275ms/sample - loss: 0.0665 - accuracy: 0.9789 - val_loss: 32.7839 - val_accuracy: 0.3001\n",
      "Epoch 60/100\n",
      "15220/15220 [==============================] - 324s 21ms/sample - loss: 0.0670 - accuracy: 0.9775 - val_loss: 35.6183 - val_accuracy: 0.3001\n",
      "Epoch 61/100\n",
      "15220/15220 [==============================] - 321s 21ms/sample - loss: 0.1014 - accuracy: 0.9659 - val_loss: 42.7107 - val_accuracy: 0.3001\n",
      "Epoch 62/100\n",
      "15220/15220 [==============================] - 323s 21ms/sample - loss: 0.0661 - accuracy: 0.9782 - val_loss: 39.3726 - val_accuracy: 0.3001\n",
      "Epoch 63/100\n",
      "15220/15220 [==============================] - 321s 21ms/sample - loss: 0.0694 - accuracy: 0.9764 - val_loss: 36.9726 - val_accuracy: 0.3001\n",
      "Epoch 64/100\n",
      "15220/15220 [==============================] - 324s 21ms/sample - loss: 0.0677 - accuracy: 0.9775 - val_loss: 30.3381 - val_accuracy: 0.3001\n",
      "Epoch 65/100\n",
      "15220/15220 [==============================] - 323s 21ms/sample - loss: 0.0480 - accuracy: 0.9849 - val_loss: 35.3269 - val_accuracy: 0.3001\n",
      "Epoch 66/100\n",
      "15220/15220 [==============================] - 323s 21ms/sample - loss: 0.0648 - accuracy: 0.9788 - val_loss: 28.7138 - val_accuracy: 0.3001\n",
      "Epoch 67/100\n",
      "15220/15220 [==============================] - 321s 21ms/sample - loss: 0.0607 - accuracy: 0.9802 - val_loss: 23.5737 - val_accuracy: 0.3001\n",
      "Epoch 68/100\n",
      "15220/15220 [==============================] - 324s 21ms/sample - loss: 0.0440 - accuracy: 0.9855 - val_loss: 31.1324 - val_accuracy: 0.3001\n",
      "Epoch 69/100\n",
      "15220/15220 [==============================] - 324s 21ms/sample - loss: 0.0713 - accuracy: 0.9768 - val_loss: 21.6211 - val_accuracy: 0.3001\n",
      "Epoch 70/100\n",
      "15220/15220 [==============================] - 324s 21ms/sample - loss: 0.0633 - accuracy: 0.9799 - val_loss: 25.6144 - val_accuracy: 0.3001\n",
      "Epoch 71/100\n",
      "15220/15220 [==============================] - 325s 21ms/sample - loss: 0.0588 - accuracy: 0.9806 - val_loss: 28.1949 - val_accuracy: 0.3001\n",
      "Epoch 72/100\n",
      "15220/15220 [==============================] - 325s 21ms/sample - loss: 0.0425 - accuracy: 0.9863 - val_loss: 36.6611 - val_accuracy: 0.3001\n",
      "Epoch 73/100\n",
      "15220/15220 [==============================] - 324s 21ms/sample - loss: 0.0554 - accuracy: 0.9825 - val_loss: 28.9543 - val_accuracy: 0.3001\n",
      "Epoch 74/100\n",
      "15220/15220 [==============================] - 324s 21ms/sample - loss: 0.0403 - accuracy: 0.9865 - val_loss: 48.3184 - val_accuracy: 0.3001\n",
      "Epoch 75/100\n",
      "15220/15220 [==============================] - 327s 21ms/sample - loss: 0.0460 - accuracy: 0.9850 - val_loss: 39.0078 - val_accuracy: 0.3001\n",
      "Epoch 76/100\n",
      "15220/15220 [==============================] - 330s 22ms/sample - loss: 0.0402 - accuracy: 0.9869 - val_loss: 35.9625 - val_accuracy: 0.3001\n",
      "Epoch 77/100\n",
      "15220/15220 [==============================] - 328s 22ms/sample - loss: 0.0511 - accuracy: 0.9833 - val_loss: 27.4130 - val_accuracy: 0.3001\n",
      "Epoch 78/100\n",
      "15220/15220 [==============================] - 329s 22ms/sample - loss: 0.0411 - accuracy: 0.9859 - val_loss: 36.6244 - val_accuracy: 0.3001\n",
      "Epoch 79/100\n",
      "15220/15220 [==============================] - 329s 22ms/sample - loss: 0.0461 - accuracy: 0.9850 - val_loss: 37.4926 - val_accuracy: 0.3001\n",
      "Epoch 80/100\n",
      "15220/15220 [==============================] - 328s 22ms/sample - loss: 0.0560 - accuracy: 0.9827 - val_loss: 37.1138 - val_accuracy: 0.3001\n",
      "Epoch 81/100\n",
      "15220/15220 [==============================] - 327s 21ms/sample - loss: 0.0518 - accuracy: 0.9836 - val_loss: 39.2363 - val_accuracy: 0.3001\n",
      "Epoch 82/100\n",
      "15220/15220 [==============================] - 326s 21ms/sample - loss: 0.0302 - accuracy: 0.9910 - val_loss: 33.5231 - val_accuracy: 0.3001\n",
      "Epoch 83/100\n",
      "15220/15220 [==============================] - 330s 22ms/sample - loss: 0.0551 - accuracy: 0.9811 - val_loss: 38.3329 - val_accuracy: 0.3001\n",
      "Epoch 84/100\n",
      "15220/15220 [==============================] - 319s 21ms/sample - loss: 0.0512 - accuracy: 0.9831 - val_loss: 40.2201 - val_accuracy: 0.3001\n",
      "Epoch 85/100\n",
      "15220/15220 [==============================] - 325s 21ms/sample - loss: 0.0292 - accuracy: 0.9902 - val_loss: 40.9026 - val_accuracy: 0.3001\n",
      "Epoch 86/100\n",
      "15220/15220 [==============================] - 320s 21ms/sample - loss: 0.0357 - accuracy: 0.9895 - val_loss: 47.2443 - val_accuracy: 0.3001\n",
      "Epoch 87/100\n",
      "15220/15220 [==============================] - 325s 21ms/sample - loss: 0.0194 - accuracy: 0.9932 - val_loss: 28.3261 - val_accuracy: 0.3001\n",
      "Epoch 88/100\n",
      "15220/15220 [==============================] - 324s 21ms/sample - loss: 0.0443 - accuracy: 0.9852 - val_loss: 36.8410 - val_accuracy: 0.3001\n",
      "Epoch 89/100\n",
      "15220/15220 [==============================] - 324s 21ms/sample - loss: 0.0350 - accuracy: 0.9883 - val_loss: 25.4110 - val_accuracy: 0.3001\n",
      "Epoch 90/100\n",
      "15220/15220 [==============================] - 321s 21ms/sample - loss: 0.0231 - accuracy: 0.9924 - val_loss: 28.3879 - val_accuracy: 0.3001\n",
      "Epoch 91/100\n",
      "15220/15220 [==============================] - 318s 21ms/sample - loss: 0.0579 - accuracy: 0.9819 - val_loss: 27.7646 - val_accuracy: 0.3000\n",
      "Epoch 92/100\n",
      "15220/15220 [==============================] - 324s 21ms/sample - loss: 0.0184 - accuracy: 0.9936 - val_loss: 43.9853 - val_accuracy: 0.3001\n",
      "Epoch 93/100\n",
      "15220/15220 [==============================] - 318s 21ms/sample - loss: 0.0109 - accuracy: 0.9964 - val_loss: 35.6101 - val_accuracy: 0.3001\n",
      "Epoch 94/100\n",
      "15220/15220 [==============================] - 322s 21ms/sample - loss: 0.0315 - accuracy: 0.9903 - val_loss: 34.9060 - val_accuracy: 0.3001\n",
      "Epoch 95/100\n",
      "15220/15220 [==============================] - 321s 21ms/sample - loss: 0.0424 - accuracy: 0.9857 - val_loss: 39.2194 - val_accuracy: 0.3001\n",
      "Epoch 96/100\n",
      "15220/15220 [==============================] - 324s 21ms/sample - loss: 0.0409 - accuracy: 0.9880 - val_loss: 41.3839 - val_accuracy: 0.3001\n",
      "Epoch 97/100\n",
      "15220/15220 [==============================] - 317s 21ms/sample - loss: 0.0304 - accuracy: 0.9898 - val_loss: 29.1300 - val_accuracy: 0.3001\n",
      "Epoch 98/100\n",
      "15220/15220 [==============================] - 319s 21ms/sample - loss: 0.0272 - accuracy: 0.9910 - val_loss: 27.5885 - val_accuracy: 0.3001\n",
      "Epoch 99/100\n",
      "15220/15220 [==============================] - 321s 21ms/sample - loss: 0.0272 - accuracy: 0.9917 - val_loss: 47.6481 - val_accuracy: 0.3001\n",
      "Epoch 100/100\n",
      "15220/15220 [==============================] - 320s 21ms/sample - loss: 0.0434 - accuracy: 0.9862 - val_loss: 43.9773 - val_accuracy: 0.3001\n"
     ]
    },
    {
     "data": {
      "text/plain": [
       "'\\nopt1 = Adam\\nEpoch 100/100\\n15220/15220 [==============================] \\n- 414s 27ms/sample - loss: 0.0435 \\n- accuracy: 0.9865 \\n- val_loss: 17.6436 \\n- val_accuracy: 0.3173os \\n- ETA: 54s \\n- loss: 0 \\n- ETA: 53s \\n- loss: 0.0453 \\n- ac - ETA: 52s \\n- loss: 0.0452\\n'"
      ]
     },
     "execution_count": 26,
     "metadata": {},
     "output_type": "execute_result"
    }
   ],
   "source": [
    "model_based_MobileNetV2.compile(loss=\"categorical_crossentropy\", optimizer=\"sgd\",\n",
    "              metrics=[\"accuracy\"])\n",
    "\n",
    "# train the head of the network\n",
    "print(\"[INFO] training head...\")\n",
    "H_MobileNetV2 = model_based_MobileNetV2.fit(\n",
    "# rodar sem o aug para ter um baseline e depois avaliar se vale a pena ter o aug\n",
    "#     aug.flow(trainX, trainY, batch_size=BS),\n",
    "    trainX, trainY,\n",
    "    steps_per_epoch=len(trainX) // BS,\n",
    "    validation_data=(testX, testY),\n",
    "    validation_steps=len(testX) // BS,\n",
    "    epochs=EPOCHS)\n",
    "\n",
    "# executed in 3h 22m 7s, finished 01:31:26 2020-09-04  50 epocas 224, 224,3\n",
    "# executed in 5h 28m 54s, finished 20:06:13 2020-09-08 100 epocas 64,64,3\n",
    "\n",
    "\"\"\"\n",
    "opt1 = Adam\n",
    "Epoch 100/100\n",
    "15220/15220 [==============================] \n",
    "- 414s 27ms/sample - loss: 0.0435 \n",
    "- accuracy: 0.9865 \n",
    "- val_loss: 17.6436 \n",
    "- val_accuracy: 0.3173os \n",
    "- ETA: 54s \n",
    "- loss: 0 \n",
    "- ETA: 53s \n",
    "- loss: 0.0453 \n",
    "- ac - ETA: 52s \n",
    "- loss: 0.0452\n",
    "\"\"\""
   ]
  },
  {
   "cell_type": "code",
   "execution_count": 19,
   "metadata": {
    "ExecuteTime": {
     "end_time": "2020-10-02T11:32:22.226540Z",
     "start_time": "2020-10-02T11:32:22.055981Z"
    }
   },
   "outputs": [
    {
     "ename": "MemoryError",
     "evalue": "Unable to allocate 12.2 GiB for an array with shape (3273080832,) and data type float32",
     "output_type": "error",
     "traceback": [
      "\u001b[1;31m---------------------------------------------------------------------------\u001b[0m",
      "\u001b[1;31mMemoryError\u001b[0m                               Traceback (most recent call last)",
      "\u001b[1;32m<ipython-input-19-592b2a0f89f6>\u001b[0m in \u001b[0;36m<module>\u001b[1;34m\u001b[0m\n\u001b[0;32m      1\u001b[0m \u001b[1;31m# dataset = np.load(bases_prontas_path+'mask_dataset_mobilenet_v2_preprocess_input_64_64_3.npy')\u001b[0m\u001b[1;33m\u001b[0m\u001b[1;33m\u001b[0m\u001b[1;33m\u001b[0m\u001b[0m\n\u001b[1;32m----> 2\u001b[1;33m \u001b[0mdataset\u001b[0m \u001b[1;33m=\u001b[0m \u001b[0mnp\u001b[0m\u001b[1;33m.\u001b[0m\u001b[0mload\u001b[0m\u001b[1;33m(\u001b[0m\u001b[0mbases_prontas_path\u001b[0m\u001b[1;33m+\u001b[0m\u001b[1;34m'mask_dataset_mobilenet_v2_preprocess_input_224_224_3.npy'\u001b[0m\u001b[1;33m)\u001b[0m\u001b[1;33m\u001b[0m\u001b[1;33m\u001b[0m\u001b[0m\n\u001b[0m\u001b[0;32m      3\u001b[0m \u001b[0mtarget\u001b[0m \u001b[1;33m=\u001b[0m \u001b[0mnp\u001b[0m\u001b[1;33m.\u001b[0m\u001b[0mload\u001b[0m\u001b[1;33m(\u001b[0m\u001b[0mbases_prontas_path\u001b[0m\u001b[1;33m+\u001b[0m\u001b[1;34m'mask_dataset_labels.npy'\u001b[0m\u001b[1;33m)\u001b[0m\u001b[1;33m\u001b[0m\u001b[1;33m\u001b[0m\u001b[0m\n\u001b[0;32m      4\u001b[0m (trainX, testX, trainY, testY) = train_test_split(dataset, target,\n\u001b[0;32m      5\u001b[0m                                                   test_size=0.3, stratify=target, random_state=42)\n",
      "\u001b[1;32m~\\anaconda3\\envs\\py3_6_tensorflow2_1\\lib\\site-packages\\numpy\\lib\\npyio.py\u001b[0m in \u001b[0;36mload\u001b[1;34m(file, mmap_mode, allow_pickle, fix_imports, encoding)\u001b[0m\n\u001b[0;32m    451\u001b[0m             \u001b[1;32melse\u001b[0m\u001b[1;33m:\u001b[0m\u001b[1;33m\u001b[0m\u001b[1;33m\u001b[0m\u001b[0m\n\u001b[0;32m    452\u001b[0m                 return format.read_array(fid, allow_pickle=allow_pickle,\n\u001b[1;32m--> 453\u001b[1;33m                                          pickle_kwargs=pickle_kwargs)\n\u001b[0m\u001b[0;32m    454\u001b[0m         \u001b[1;32melse\u001b[0m\u001b[1;33m:\u001b[0m\u001b[1;33m\u001b[0m\u001b[1;33m\u001b[0m\u001b[0m\n\u001b[0;32m    455\u001b[0m             \u001b[1;31m# Try a pickle\u001b[0m\u001b[1;33m\u001b[0m\u001b[1;33m\u001b[0m\u001b[1;33m\u001b[0m\u001b[0m\n",
      "\u001b[1;32m~\\anaconda3\\envs\\py3_6_tensorflow2_1\\lib\\site-packages\\numpy\\lib\\format.py\u001b[0m in \u001b[0;36mread_array\u001b[1;34m(fp, allow_pickle, pickle_kwargs)\u001b[0m\n\u001b[0;32m    753\u001b[0m         \u001b[1;32mif\u001b[0m \u001b[0misfileobj\u001b[0m\u001b[1;33m(\u001b[0m\u001b[0mfp\u001b[0m\u001b[1;33m)\u001b[0m\u001b[1;33m:\u001b[0m\u001b[1;33m\u001b[0m\u001b[1;33m\u001b[0m\u001b[0m\n\u001b[0;32m    754\u001b[0m             \u001b[1;31m# We can use the fast fromfile() function.\u001b[0m\u001b[1;33m\u001b[0m\u001b[1;33m\u001b[0m\u001b[1;33m\u001b[0m\u001b[0m\n\u001b[1;32m--> 755\u001b[1;33m             \u001b[0marray\u001b[0m \u001b[1;33m=\u001b[0m \u001b[0mnumpy\u001b[0m\u001b[1;33m.\u001b[0m\u001b[0mfromfile\u001b[0m\u001b[1;33m(\u001b[0m\u001b[0mfp\u001b[0m\u001b[1;33m,\u001b[0m \u001b[0mdtype\u001b[0m\u001b[1;33m=\u001b[0m\u001b[0mdtype\u001b[0m\u001b[1;33m,\u001b[0m \u001b[0mcount\u001b[0m\u001b[1;33m=\u001b[0m\u001b[0mcount\u001b[0m\u001b[1;33m)\u001b[0m\u001b[1;33m\u001b[0m\u001b[1;33m\u001b[0m\u001b[0m\n\u001b[0m\u001b[0;32m    756\u001b[0m         \u001b[1;32melse\u001b[0m\u001b[1;33m:\u001b[0m\u001b[1;33m\u001b[0m\u001b[1;33m\u001b[0m\u001b[0m\n\u001b[0;32m    757\u001b[0m             \u001b[1;31m# This is not a real file. We have to read it the\u001b[0m\u001b[1;33m\u001b[0m\u001b[1;33m\u001b[0m\u001b[1;33m\u001b[0m\u001b[0m\n",
      "\u001b[1;31mMemoryError\u001b[0m: Unable to allocate 12.2 GiB for an array with shape (3273080832,) and data type float32"
     ]
    }
   ],
   "source": [
    "# dataset = np.load(bases_prontas_path+'mask_dataset_mobilenet_v2_preprocess_input_64_64_3.npy')\n",
    "dataset = np.load(bases_prontas_path+'mask_dataset_mobilenet_v2_preprocess_input_224_224_3.npy')\n",
    "target = np.load(bases_prontas_path+'mask_dataset_labels.npy')\n",
    "(trainX2, testX2, trainY2, testY2) = train_test_split(dataset, target,\n",
    "                                                  test_size=0.3, stratify=target, random_state=42)\n",
    "\n",
    "model_based_MobileNetV2_224.compile(loss=\"categorical_crossentropy\", optimizer=opt1,\n",
    "              metrics=[\"accuracy\"])\n",
    "\n",
    "# train the head of the network\n",
    "print(\"[INFO] training head...\")\n",
    "H_MobileNetV2_224 = model_based_MobileNetV2_224.fit(\n",
    "# rodar sem o aug para ter um baseline e depois avaliar se vale a pena ter o aug\n",
    "#     aug.flow(trainX, trainY, batch_size=BS),\n",
    "    trainX2, trainY2,\n",
    "    steps_per_epoch=len(trainX2) // BS,\n",
    "    validation_data=(testX2, testY2),\n",
    "    validation_steps=len(testX2) // BS,\n",
    "    epochs=EPOCHS)"
   ]
  },
  {
   "cell_type": "code",
   "execution_count": null,
   "metadata": {
    "ExecuteTime": {
     "end_time": "2020-09-10T00:40:21.164942Z",
     "start_time": "2020-09-10T00:39:59.085Z"
    }
   },
   "outputs": [],
   "source": [
    "dataset = np.load(bases_prontas_path+'mask_dataset_vgg16_preprocess_input_64_64_3.npy')\n",
    "target = np.load(bases_prontas_path+'mask_dataset_labels.npy')\n",
    "(trainX, testX, trainY, testY) = train_test_split(dataset, target,\n",
    "                                                  test_size=0.3, stratify=target, random_state=42)"
   ]
  },
  {
   "cell_type": "code",
   "execution_count": null,
   "metadata": {
    "ExecuteTime": {
     "end_time": "2020-09-10T00:40:21.165939Z",
     "start_time": "2020-09-10T00:40:03.083Z"
    }
   },
   "outputs": [],
   "source": [
    "print(len(dataset))\n",
    "print(len(target))\n",
    "print(len(trainX))\n",
    "print(len(trainY))\n",
    "print(len(testX))\n",
    "print(len(testY))"
   ]
  },
  {
   "cell_type": "code",
   "execution_count": null,
   "metadata": {
    "ExecuteTime": {
     "end_time": "2020-09-08T17:14:48.883601Z",
     "start_time": "2020-09-08T17:14:48.866647Z"
    }
   },
   "outputs": [],
   "source": [
    "model_based_ResNet152V2.compile(loss=\"categorical_crossentropy\", optimizer=opt,\n",
    "              metrics=[\"accuracy\"])\n",
    "\n",
    "# train the head of the network\n",
    "print(\"[INFO] training head...\")\n",
    "H_ResNet152V2 = model_based_ResNet152V2.fit(\n",
    "    aug.flow(trainX, trainY, batch_size=BS),\n",
    "    steps_per_epoch=len(trainX) // BS,\n",
    "    validation_data=(testX, testY),\n",
    "    validation_steps=len(testX) // BS,\n",
    "    epochs=EPOCHS)\n",
    "\n",
    "# executed in 14h 21m 23s, finished 15:52:49 2020-09-04"
   ]
  },
  {
   "cell_type": "code",
   "execution_count": null,
   "metadata": {
    "ExecuteTime": {
     "end_time": "2020-09-08T17:14:59.833187Z",
     "start_time": "2020-09-08T17:14:59.815267Z"
    }
   },
   "outputs": [],
   "source": [
    "model_based_ResNet50V2.compile(loss=\"categorical_crossentropy\", optimizer=opt,\n",
    "              metrics=[\"accuracy\"])\n",
    "\n",
    "# train the head of the network\n",
    "print(\"[INFO] training head...\")\n",
    "H_ResNet50V2 = model_based_ResNet50V2.fit(\n",
    "    aug.flow(trainX, trainY, batch_size=BS),\n",
    "    steps_per_epoch=len(trainX) // BS,\n",
    "    validation_data=(testX, testY),\n",
    "    validation_steps=len(testX) // BS,\n",
    "    epochs=EPOCHS)\n",
    "\n",
    "#executed in 4h 40m 20s, finished 20:33:08 2020-09-04"
   ]
  },
  {
   "cell_type": "code",
   "execution_count": null,
   "metadata": {},
   "outputs": [],
   "source": [
    "dataset = np.load(bases_prontas_path+'mask_dataset_xception_preprocess_input_64_64_3.npy')\n",
    "target = np.load(bases_prontas_path+'mask_dataset_labels.npy')\n",
    "(trainX, testX, trainY, testY) = train_test_split(dataset, target,\n",
    "                                                  test_size=0.3, stratify=target, random_state=42)"
   ]
  },
  {
   "cell_type": "code",
   "execution_count": null,
   "metadata": {
    "ExecuteTime": {
     "end_time": "2020-09-05T03:54:45.815822Z",
     "start_time": "2020-09-04T23:33:08.972208Z"
    }
   },
   "outputs": [],
   "source": [
    "model_based_xception.compile(loss=\"categorical_crossentropy\", optimizer=opt,\n",
    "              metrics=[\"accuracy\"])\n",
    "\n",
    "# train the head of the network\n",
    "print(\"[INFO] training head...\")\n",
    "H_xception = model_based_xception.fit(\n",
    "    aug.flow(trainX, trainY, batch_size=BS),\n",
    "    steps_per_epoch=len(trainX) // BS,\n",
    "    validation_data=(testX, testY),\n",
    "    validation_steps=len(testX) // BS,\n",
    "    epochs=EPOCHS)\n",
    "\n",
    "#executed in 4h 21m 37s, finished 00:54:45 2020-09-05"
   ]
  },
  {
   "cell_type": "markdown",
   "metadata": {},
   "source": [
    "## Avaliar os modelos"
   ]
  },
  {
   "cell_type": "code",
   "execution_count": 20,
   "metadata": {
    "ExecuteTime": {
     "end_time": "2020-10-02T11:33:23.859721Z",
     "start_time": "2020-10-02T11:33:23.822788Z"
    },
    "scrolled": true
   },
   "outputs": [
    {
     "name": "stdout",
     "output_type": "stream",
     "text": [
      "[INFO] evaluating network...\n"
     ]
    }
   ],
   "source": [
    "print(\"[INFO] evaluating network...\")\n",
    "lb = [\"without_mask\",\"mask_weared_incorrect\",\"with_mask\"]\n",
    "def Avaliando_modelo(model, NWHead = None,x_test=testX, y_test=testY):\n",
    "    predIdxs = model.predict(x_test, batch_size=32)\n",
    "\n",
    "    # for each image in the testing set we need to find the index of the\n",
    "    # label with corresponding largest predicted probability\n",
    "    predIdxs = np.argmax(predIdxs, axis=1)\n",
    "\n",
    "    # show a nicely formatted classification report\n",
    "    print(classification_report(y_test.argmax(axis=1), predIdxs,\n",
    "                                target_names=lb))\n",
    "\n",
    "    # serialize the model to disk\n",
    "    print(\"[INFO] saving mask detector model...\")\n",
    "\n",
    "    if NWHead:\n",
    "        # plot the training loss and accuracy\n",
    "        N = EPOCHS\n",
    "        plt.style.use(\"ggplot\")\n",
    "        plt.figure()\n",
    "        plt.plot(np.arange(0, N), NWHead.history[\"loss\"], label=\"train_loss\")\n",
    "        plt.plot(np.arange(0, N), NWHead.history[\"val_loss\"], label=\"val_loss\")\n",
    "        plt.plot(np.arange(0, N), NWHead.history[\"accuracy\"], label=\"train_acc\")\n",
    "        plt.plot(np.arange(0, N), NWHead.history[\"val_accuracy\"], label=\"val_acc\")\n",
    "        plt.title(\"Training Loss and Accuracy\")\n",
    "        plt.xlabel(\"Epoch #\")\n",
    "        plt.ylabel(\"Loss/Accuracy\")\n",
    "        plt.legend(loc=\"lower left\")\n",
    "        plt.show()\n",
    "    return classification_report(y_test.argmax(axis=1), predIdxs,\n",
    "                                target_names=lb,output_dict=True)"
   ]
  },
  {
   "cell_type": "code",
   "execution_count": 27,
   "metadata": {
    "ExecuteTime": {
     "end_time": "2020-10-02T21:44:41.901698Z",
     "start_time": "2020-10-02T21:44:38.912189Z"
    }
   },
   "outputs": [
    {
     "name": "stdout",
     "output_type": "stream",
     "text": [
      "                       precision    recall  f1-score   support\n",
      "\n",
      "         without_mask       0.00      0.00      0.00      2608\n",
      "mask_weared_incorrect       0.30      1.00      0.46      1958\n",
      "            with_mask       0.00      0.00      0.00      1958\n",
      "\n",
      "             accuracy                           0.30      6524\n",
      "            macro avg       0.10      0.33      0.15      6524\n",
      "         weighted avg       0.09      0.30      0.14      6524\n",
      "\n",
      "[INFO] saving mask detector model...\n"
     ]
    },
    {
     "name": "stderr",
     "output_type": "stream",
     "text": [
      "C:\\Users\\wesle\\anaconda3\\envs\\py3_6_tensorflow2_1\\lib\\site-packages\\sklearn\\metrics\\_classification.py:1221: UndefinedMetricWarning: Precision and F-score are ill-defined and being set to 0.0 in labels with no predicted samples. Use `zero_division` parameter to control this behavior.\n",
      "  _warn_prf(average, modifier, msg_start, len(result))\n"
     ]
    },
    {
     "data": {
      "image/png": "[encoded data removed]",
      "text/plain": [
       "<Figure size 432x288 with 1 Axes>"
      ]
     },
     "metadata": {},
     "output_type": "display_data"
    },
    {
     "name": "stderr",
     "output_type": "stream",
     "text": [
      "C:\\Users\\wesle\\anaconda3\\envs\\py3_6_tensorflow2_1\\lib\\site-packages\\sklearn\\metrics\\_classification.py:1221: UndefinedMetricWarning: Precision and F-score are ill-defined and being set to 0.0 in labels with no predicted samples. Use `zero_division` parameter to control this behavior.\n",
      "  _warn_prf(average, modifier, msg_start, len(result))\n"
     ]
    },
    {
     "data": {
      "text/plain": [
       "{'without_mask': {'precision': 0.0,\n",
       "  'recall': 0.0,\n",
       "  'f1-score': 0.0,\n",
       "  'support': 2608},\n",
       " 'mask_weared_incorrect': {'precision': 0.3001226241569589,\n",
       "  'recall': 1.0,\n",
       "  'f1-score': 0.46168356519688747,\n",
       "  'support': 1958},\n",
       " 'with_mask': {'precision': 0.0,\n",
       "  'recall': 0.0,\n",
       "  'f1-score': 0.0,\n",
       "  'support': 1958},\n",
       " 'accuracy': 0.3001226241569589,\n",
       " 'macro avg': {'precision': 0.1000408747189863,\n",
       "  'recall': 0.3333333333333333,\n",
       "  'f1-score': 0.1538945217322958,\n",
       "  'support': 6524},\n",
       " 'weighted avg': {'precision': 0.09007358953085921,\n",
       "  'recall': 0.3001226241569589,\n",
       "  'f1-score': 0.1385616831170303,\n",
       "  'support': 6524}}"
      ]
     },
     "execution_count": 27,
     "metadata": {},
     "output_type": "execute_result"
    }
   ],
   "source": [
    "Avaliando_modelo(model_based_MobileNetV2, H_MobileNetV2, testX, testY)"
   ]
  },
  {
   "cell_type": "code",
   "execution_count": null,
   "metadata": {
    "ExecuteTime": {
     "end_time": "2020-10-02T08:02:57.217228Z",
     "start_time": "2020-10-01T20:35:49.758Z"
    }
   },
   "outputs": [],
   "source": [
    "Avaliando_modelo(model_based_MobileNetV2_224, H_MobileNetV2_224, testX2,  testY2)"
   ]
  },
  {
   "cell_type": "code",
   "execution_count": null,
   "metadata": {
    "ExecuteTime": {
     "end_time": "2020-09-05T10:15:38.847174Z",
     "start_time": "2020-09-05T10:14:44.172398Z"
    }
   },
   "outputs": [],
   "source": [
    "Avaliando_modelo(model_based_ResNet152V2, H_ResNet152V2, testX,  testY)"
   ]
  },
  {
   "cell_type": "code",
   "execution_count": null,
   "metadata": {
    "ExecuteTime": {
     "end_time": "2020-09-05T10:16:00.167324Z",
     "start_time": "2020-09-05T10:15:38.849171Z"
    }
   },
   "outputs": [],
   "source": [
    "Avaliando_modelo(model_based_ResNet50V2, H_ResNet50V2, testX, testY)"
   ]
  },
  {
   "cell_type": "code",
   "execution_count": null,
   "metadata": {
    "ExecuteTime": {
     "end_time": "2020-09-05T10:16:32.111827Z",
     "start_time": "2020-09-05T10:16:00.169317Z"
    }
   },
   "outputs": [],
   "source": [
    "Avaliando_modelo(model_based_xception, H_xception, testX, testY)"
   ]
  },
  {
   "cell_type": "markdown",
   "metadata": {},
   "source": [
    "## testar os modelos para uma foto única "
   ]
  },
  {
   "cell_type": "code",
   "execution_count": null,
   "metadata": {
    "ExecuteTime": {
     "end_time": "2020-09-05T10:19:03.595227Z",
     "start_time": "2020-09-05T10:19:03.590242Z"
    }
   },
   "outputs": [],
   "source": [
    "current_path = os.getcwd()\n",
    "image = dataset[0]#cv2.imread(current_path+\"\\\\imagem_nova13.png\")\n",
    "# image = imutils.resize(image, width=800, height=600 )\n",
    "print(type(image))\n",
    "print(image.shape)"
   ]
  },
  {
   "cell_type": "code",
   "execution_count": null,
   "metadata": {
    "ExecuteTime": {
     "end_time": "2020-09-05T13:20:43.422534Z",
     "start_time": "2020-09-05T13:20:43.243123Z"
    }
   },
   "outputs": [],
   "source": [
    "#img_test = baseModel_xception.predict(image)#image.array_to_img(baseModel_xception.predict(testX))\n",
    "from PIL import Image\n",
    "plt.imshow(Image.fromarray(dataset[8], 'RGB'))\n",
    "plt.show()"
   ]
  },
  {
   "cell_type": "markdown",
   "metadata": {},
   "source": [
    "## salvar os pesos dos modelos para não precisar salvar de novo"
   ]
  },
  {
   "cell_type": "code",
   "execution_count": null,
   "metadata": {
    "ExecuteTime": {
     "end_time": "2020-09-05T10:12:56.840276Z",
     "start_time": "2020-09-05T10:12:56.820331Z"
    }
   },
   "outputs": [],
   "source": [
    "model_path = os.path.join(\"D:\\\\\",\"FIA\",\"TCC\",\"Meus_Modelos\",\"\")\n",
    "print(model_path)"
   ]
  },
  {
   "cell_type": "code",
   "execution_count": null,
   "metadata": {
    "ExecuteTime": {
     "end_time": "2020-09-05T10:13:10.207158Z",
     "start_time": "2020-09-05T10:13:06.259850Z"
    }
   },
   "outputs": [],
   "source": [
    "# https://www.tensorflow.org/tutorials/keras/save_and_load\n",
    "# Save the weights\n",
    "model_based_MobileNetV2.save_weights(model_path+'model_based_MobileNetV2_checkpoint')\n",
    "model_based_ResNet152V2.save_weights(model_path+'model_based_ResNet152V2_checkpoint')\n",
    "model_based_ResNet50V2.save_weights(model_path+'model_based_ResNet50V2_checkpoint')\n",
    "model_based_xception.save_weights(model_path+'model_based_xception_checkpoint')\n",
    "\n",
    "# # Create a new model instance\n",
    "# model = create_model()# depois do model.compile(...) antes do fit\n",
    "\n",
    "# # Restore the weights\n",
    "# model.load_weights('./checkpoints/my_checkpoint')"
   ]
  },
  {
   "cell_type": "markdown",
   "metadata": {},
   "source": [
    "### tentar deixar mais rapido com TFRecords\n",
    "https://medium.com/mostly-ai/tensorflow-records-what-they-are-and-how-to-use-them-c46bc4bbb564"
   ]
  },
  {
   "cell_type": "code",
   "execution_count": null,
   "metadata": {},
   "outputs": [],
   "source": []
  }
 ],
 "metadata": {
  "kernelspec": {
   "display_name": "Python 3",
   "language": "python",
   "name": "python3"
  },
  "language_info": {
   "codemirror_mode": {
    "name": "ipython",
    "version": 3
   },
   "file_extension": ".py",
   "mimetype": "text/x-python",
   "name": "python",
   "nbconvert_exporter": "python",
   "pygments_lexer": "ipython3",
   "version": "3.6.10"
  }
 },
 "nbformat": 4,
 "nbformat_minor": 4
}
