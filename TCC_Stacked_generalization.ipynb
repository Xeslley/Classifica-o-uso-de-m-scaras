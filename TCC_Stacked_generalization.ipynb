{
 "cells": [
  {
   "cell_type": "markdown",
   "metadata": {},
   "source": [
    "A generalização empilhada é um método para combinar estimadores para reduzir seus vieses. \n",
    "Mais precisamente, as previsões de cada estimador individual são empilhadas e usadas como entrada para um estimador final para calcular a previsão. \n",
    "Este estimador final é treinado por meio de validação cruzada.\n",
    "\n",
    "[Documentação](https://scikit-learn.org/stable/modules/generated/sklearn.ensemble.StackingClassifier.html#sklearn.ensemble.StackingClassifier)"
   ]
  },
  {
   "cell_type": "code",
   "execution_count": null,
   "metadata": {},
   "outputs": [],
   "source": [
    "from sklearn.pipeline import make_pipeline\n",
    "from sklearn.ensemble import StackingClassifier\n",
    "from sklearn.model_selection import StratifiedShuffleSplit, train_test_split\n",
    "import pandas as pd\n",
    "import os\n",
    "from sklearn.linear_model import SGDClassifier\n",
    "from sklearn.neighbors import KNeighborsClassifier\n",
    "from sklearn.ensemble import RandomForestClassifier\n",
    "from sklearn.neural_network import MLPClassifier\n",
    "from sklearn.linear_model import LogisticRegression\n",
    "from sklearn.ensemble import GradientBoostingClassifier"
   ]
  },
  {
   "cell_type": "code",
   "execution_count": null,
   "metadata": {},
   "outputs": [],
   "source": [
    "bases_prontas_path = os.path.join(\"D:\\\\\",\"FIA\",\"TCC\",\"BASES\",\"\")\n",
    "df = pd.read_csv(bases_prontas_path+'mask_dataset_vgg16_preprocess_input_224_224_3_feature_extracted.csv')\n",
    "X, y = df.drop(['im_path', 'class'], axis=1), df['class'].values\n",
    "\n",
    "label_transformer = preprocessing.LabelEncoder()\n",
    "label_transformer.fit(y)\n",
    "y = label_transformer.transform(y)\n",
    "\n",
    "cross_validation = StratifiedShuffleSplit(n_splits=7, test_size=0.3, random_state=42)"
   ]
  },
  {
   "cell_type": "code",
   "execution_count": null,
   "metadata": {},
   "outputs": [],
   "source": [
    "clf1 = SGDClassifier(alpha=0.31622776601683794, \n",
    "                     max_iter=100, \n",
    "                     random_state=42, \n",
    "                     tol=1e-06, \n",
    "                     loss=\"hinge\", \n",
    "                     penalty = \"l2\")\n",
    "clf2 = KNeighborsClassifier(algorithm='brute', \n",
    "                            metric='braycurtis', \n",
    "                            n_neighbors=6, \n",
    "                            weights='distance')\n",
    "clf3 = KNeighborsClassifier(algorithm='brute', \n",
    "                            metric='braycurtis', \n",
    "                            n_neighbors=3, \n",
    "                            weights='distance')\n",
    "clf4 = LogisticRegression(C=50, \n",
    "                          l1_ratio=0, \n",
    "                          max_iter=10000, \n",
    "                          random_state=42, \n",
    "                          solver = \"liblinear\", \n",
    "                          penalty= \"l1\", \n",
    "                          class_weight = \"balanced\")\n",
    "clf5 = RandomForestClassifier(max_depth=1000, \n",
    "                              random_state=42, \n",
    "                              criterion= \"gini\", \n",
    "                              class_weight = \"balanced\")\n",
    "clf6 = MLPClassifier(solver='lbfgs', \n",
    "                     random_state=42, \n",
    "                     max_iter=1000, \n",
    "                     learning_rate=\"invscaling\")\n",
    "\n",
    "estimadores_de_entrada = [('sgd', clf1), \n",
    "                          ('knn6', clf2), \n",
    "                          ('knn3', clf3), \n",
    "                          ('regLog', clf4),\n",
    "                          ('RdnForest', clf5),\n",
    "                          ('MLP', clf6)]\n",
    "\n",
    "estimador_final = GradientBoostingClassifier(random_state=42)"
   ]
  },
  {
   "cell_type": "code",
   "execution_count": null,
   "metadata": {},
   "outputs": [],
   "source": [
    "clf = StackingClassifier(estimators=estimadores_de_entrada, \n",
    "                         cv=cross_validation, \n",
    "                         final_estimator=estimador_final)"
   ]
  },
  {
   "cell_type": "code",
   "execution_count": null,
   "metadata": {},
   "outputs": [],
   "source": [
    "historico = clf.fit(X_train, y_train)"
   ]
  },
  {
   "cell_type": "code",
   "execution_count": null,
   "metadata": {},
   "outputs": [],
   "source": [
    "X_train, X_test, y_train, y_test = train_test_split(X, y, test_size=0.50, random_state=42)\n",
    "\n",
    "clf.score(X_test, y_test)"
   ]
  }
 ],
 "metadata": {
  "kernelspec": {
   "display_name": "Python 3",
   "language": "python",
   "name": "python3"
  },
  "language_info": {
   "codemirror_mode": {
    "name": "ipython",
    "version": 3
   },
   "file_extension": ".py",
   "mimetype": "text/x-python",
   "name": "python",
   "nbconvert_exporter": "python",
   "pygments_lexer": "ipython3",
   "version": "3.6.10"
  }
 },
 "nbformat": 4,
 "nbformat_minor": 4
}
