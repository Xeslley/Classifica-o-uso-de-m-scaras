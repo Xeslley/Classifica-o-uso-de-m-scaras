{
 "cells": [
  {
   "cell_type": "code",
   "execution_count": null,
   "metadata": {
    "ExecuteTime": {
     "end_time": "2020-10-03T15:23:22.617428Z",
     "start_time": "2020-10-03T15:23:17.325963Z"
    }
   },
   "outputs": [],
   "source": [
    "from tensorflow.keras.preprocessing.image import ImageDataGenerator\n",
    "from tensorflow.keras.applications import xception\n",
    "from tensorflow.keras.layers import AveragePooling2D\n",
    "from tensorflow.keras.layers import Dropout\n",
    "from tensorflow.keras.layers import Flatten\n",
    "from tensorflow.keras.layers import Dense\n",
    "from tensorflow.keras.layers import Input\n",
    "from tensorflow.keras.models import Model\n",
    "from tensorflow.keras.optimizers import Adam\n",
    "from tensorflow.keras.preprocessing.image import img_to_array\n",
    "from tensorflow.keras.preprocessing.image import load_img\n",
    "from tensorflow.keras.utils import to_categorical\n",
    "from sklearn.preprocessing import LabelEncoder\n",
    "from sklearn.model_selection import train_test_split\n",
    "from sklearn.metrics import classification_report\n",
    "import matplotlib.pyplot as plt\n",
    "import numpy as np\n",
    "import argparse\n",
    "import pandas as pd\n",
    "import glob\n",
    "import os\n",
    "import cv2\n",
    "import random as rand\n",
    "import os\n",
    "import xml.etree.ElementTree as et\n",
    "import re\n",
    "import pandas as pd"
   ]
  },
  {
   "cell_type": "code",
   "execution_count": null,
   "metadata": {
    "ExecuteTime": {
     "end_time": "2020-10-03T15:23:22.626420Z",
     "start_time": "2020-10-03T15:23:22.618429Z"
    }
   },
   "outputs": [],
   "source": [
    "bases_prontas_path = os.path.join(\"D:\\\\\",\"FIA\",\"TCC\",\"BASES\",\"\")\n",
    "print(bases_prontas_path)"
   ]
  },
  {
   "cell_type": "markdown",
   "metadata": {},
   "source": [
    "## Criar modelos com transfer learning"
   ]
  },
  {
   "cell_type": "code",
   "execution_count": null,
   "metadata": {
    "ExecuteTime": {
     "end_time": "2020-10-03T15:23:28.138991Z",
     "start_time": "2020-10-03T15:23:22.630408Z"
    }
   },
   "outputs": [],
   "source": [
    "baseModel_xception_64 = xception.Xception(weights=\"imagenet\", \n",
    "                                          include_top=False,\n",
    "                                          input_tensor=Input(shape=(64, 64, 3)))"
   ]
  },
  {
   "cell_type": "code",
   "execution_count": null,
   "metadata": {
    "ExecuteTime": {
     "end_time": "2020-10-03T15:23:28.224635Z",
     "start_time": "2020-10-03T15:23:28.139989Z"
    }
   },
   "outputs": [],
   "source": [
    "# construct the head of the model that will be placed on top of the\n",
    "# the base model\n",
    "headModel_xception_64 = baseModel_xception_64.output\n",
    "# headModel_xception_64 = AveragePooling2D(pool_size=(7, 7))(headModel_xception_64)\n",
    "headModel_xception_64 = AveragePooling2D(pool_size=(2, 2))(headModel_xception_64)\n",
    "headModel_xception_64 = Flatten(name=\"flatten\")(headModel_xception_64)\n",
    "headModel_xception_64 = Dense(12288, activation=\"relu\")(headModel_xception_64)\n",
    "headModel_xception_64 = Dropout(0.4)(headModel_xception_64)\n",
    "headModel_xception_64 = Dense(4096, activation=\"relu\")(headModel_xception_64)\n",
    "headModel_xception_64 = Dropout(0.4)(headModel_xception_64)\n",
    "headModel_xception_64 = Dense(3, activation=\"softmax\")(headModel_xception_64)\n",
    "\n",
    "# place the head FC model on top of the base model (this will become\n",
    "# the actual model we will train)\n",
    "model_based_xception_64 = Model(inputs=baseModel_xception_64.input, \n",
    "                                outputs=headModel_xception_64)\n",
    "\n",
    "# loop over all layers in the base model and freeze them so they will\n",
    "# *not* be updated during the first training process\n",
    "for layer in baseModel_xception_64.layers:\n",
    "    layer.trainable = False"
   ]
  },
  {
   "cell_type": "code",
   "execution_count": null,
   "metadata": {
    "ExecuteTime": {
     "end_time": "2020-10-03T15:23:28.230584Z",
     "start_time": "2020-10-03T15:23:28.225595Z"
    }
   },
   "outputs": [],
   "source": [
    "INIT_LR0 = 1e-2\n",
    "INIT_LR = 1e-4\n",
    "INIT_LR2 = 1e-6\n",
    "EPOCHS = 10\n",
    "BS = 1\n",
    "\n",
    "aug = ImageDataGenerator(zoom_range=0.1,\n",
    "                         width_shift_range=0.1,\n",
    "                         height_shift_range=0.1,\n",
    "                         shear_range=0.15,\n",
    "                         fill_mode=\"nearest\")"
   ]
  },
  {
   "cell_type": "code",
   "execution_count": null,
   "metadata": {
    "ExecuteTime": {
     "end_time": "2020-10-03T15:23:40.866502Z",
     "start_time": "2020-10-03T15:23:40.862541Z"
    }
   },
   "outputs": [],
   "source": [
    "print(\"[INFO] compiling model...\")\n",
    "opt1 = Adam(lr=INIT_LR, decay=INIT_LR / EPOCHS)\n",
    "# opt2 = SGD(lr=1e-3, decay=1e-6, momentum=0.9, nesterov=True)"
   ]
  },
  {
   "cell_type": "markdown",
   "metadata": {},
   "source": [
    "## Compilar e treinar os modelos criados"
   ]
  },
  {
   "cell_type": "code",
   "execution_count": null,
   "metadata": {
    "ExecuteTime": {
     "end_time": "2020-10-03T15:23:45.629794Z",
     "start_time": "2020-10-03T15:23:42.499083Z"
    }
   },
   "outputs": [],
   "source": [
    "dataset = np.load(bases_prontas_path+'mask_dataset_xception_preprocess_input_64_64_3.npy')\n",
    "target = np.load(bases_prontas_path+'mask_dataset_labels.npy')\n",
    "(trainX, testX, trainY, testY) = train_test_split(dataset, \n",
    "                                                  target,\n",
    "                                                  test_size=0.4, \n",
    "                                                  stratify=target, \n",
    "                                                  random_state=42)"
   ]
  },
  {
   "cell_type": "code",
   "execution_count": null,
   "metadata": {
    "ExecuteTime": {
     "start_time": "2020-10-03T15:23:43.947Z"
    }
   },
   "outputs": [],
   "source": [
    "model_based_xception_64.compile(loss=\"categorical_crossentropy\", \n",
    "                                optimizer=opt1,\n",
    "                                metrics=[\"accuracy\"])\n",
    "\n",
    "# train the head of the network\n",
    "print(\"[INFO] training head...\")\n",
    "H_xception_64 = model_based_xception_64.fit(aug.flow(trainX, trainY, batch_size=BS),\n",
    "                                            steps_per_epoch=len(trainX) // BS,\n",
    "                                            validation_data=(testX, testY),\n",
    "                                            validation_steps=len(testX) // BS,\n",
    "                                            epochs=EPOCHS)"
   ]
  },
  {
   "cell_type": "markdown",
   "metadata": {},
   "source": [
    "## Avaliar os modelos"
   ]
  },
  {
   "cell_type": "code",
   "execution_count": null,
   "metadata": {
    "ExecuteTime": {
     "start_time": "2020-10-03T15:23:59.611Z"
    },
    "scrolled": true
   },
   "outputs": [],
   "source": [
    "print(\"[INFO] evaluating network...\")\n",
    "lb = [\"without_mask\",\"mask_weared_incorrect\",\"with_mask\"]\n",
    "def Avaliando_modelo(model, NWHead = None,x_test=testX, y_test=testY):\n",
    "    predIdxs = model.predict(x_test, batch_size=32)\n",
    "\n",
    "    # for each image in the testing set we need to find the index of the\n",
    "    # label with corresponding largest predicted probability\n",
    "    predIdxs = np.argmax(predIdxs, axis=1)\n",
    "\n",
    "    # show a nicely formatted classification report\n",
    "    print(classification_report(y_test.argmax(axis=1), predIdxs,\n",
    "                                target_names=lb))\n",
    "\n",
    "    # serialize the model to disk\n",
    "    print(\"[INFO] saving mask detector model...\")\n",
    "\n",
    "    if NWHead:\n",
    "        # plot the training loss and accuracy\n",
    "        N = EPOCHS\n",
    "        plt.style.use(\"ggplot\")\n",
    "        plt.figure()\n",
    "        plt.plot(np.arange(0, N), NWHead.history[\"loss\"], label=\"train_loss\")\n",
    "        plt.plot(np.arange(0, N), NWHead.history[\"val_loss\"], label=\"val_loss\")\n",
    "        plt.plot(np.arange(0, N), NWHead.history[\"accuracy\"], label=\"train_acc\")\n",
    "        plt.plot(np.arange(0, N), NWHead.history[\"val_accuracy\"], label=\"val_acc\")\n",
    "        plt.title(\"Training Loss and Accuracy\")\n",
    "        plt.xlabel(\"Epoch #\")\n",
    "        plt.ylabel(\"Loss/Accuracy\")\n",
    "        plt.legend(loc=\"lower left\")\n",
    "        plt.show()\n",
    "    return classification_report(y_test.argmax(axis=1), predIdxs,\n",
    "                                target_names=lb,output_dict=True)"
   ]
  },
  {
   "cell_type": "code",
   "execution_count": null,
   "metadata": {
    "ExecuteTime": {
     "start_time": "2020-10-03T15:24:00.372Z"
    }
   },
   "outputs": [],
   "source": [
    "Avaliando_modelo(model_based_xception_64, H_xception_64, testX, testY)"
   ]
  },
  {
   "cell_type": "markdown",
   "metadata": {},
   "source": [
    "## salvar os pesos dos modelos para não precisar salvar de novo"
   ]
  },
  {
   "cell_type": "code",
   "execution_count": null,
   "metadata": {
    "ExecuteTime": {
     "start_time": "2020-10-03T15:24:12.724Z"
    }
   },
   "outputs": [],
   "source": [
    "model_path = os.path.join(\"D:\\\\\",\"FIA\",\"TCC\",\"Meus_Modelos\",\"\")\n",
    "print(model_path)"
   ]
  },
  {
   "cell_type": "code",
   "execution_count": null,
   "metadata": {
    "ExecuteTime": {
     "start_time": "2020-10-03T15:25:24.689Z"
    }
   },
   "outputs": [],
   "source": [
    "# https://www.tensorflow.org/tutorials/keras/save_and_load\n",
    "model_based_xception_64.save_weights(model_path+'model_based_xception_64_checkpoint_2')"
   ]
  },
  {
   "cell_type": "markdown",
   "metadata": {},
   "source": [
    "## Refazer para um dataset com shape maior"
   ]
  },
  {
   "cell_type": "code",
   "execution_count": null,
   "metadata": {
    "ExecuteTime": {
     "end_time": "2020-10-03T15:11:38.643436Z",
     "start_time": "2020-10-03T15:11:36.997556Z"
    }
   },
   "outputs": [],
   "source": [
    "baseModel_xception_224 = xception.Xception(weights=\"imagenet\", \n",
    "                                           include_top=False,\n",
    "                                           input_tensor=Input(shape=(224, 224, 3)))"
   ]
  },
  {
   "cell_type": "code",
   "execution_count": null,
   "metadata": {
    "ExecuteTime": {
     "end_time": "2020-10-03T15:11:38.729237Z",
     "start_time": "2020-10-03T15:11:38.643436Z"
    }
   },
   "outputs": [],
   "source": [
    "# construct the head of the model that will be placed on top of the\n",
    "# the base model\n",
    "headModel_xception_224 = baseModel_xception_224.output\n",
    "headModel_xception_224 = AveragePooling2D(pool_size=(7, 7))(headModel_xception_224)\n",
    "# headModel_xception_224 = AveragePooling2D(pool_size=(2, 2))(headModel_xception_224)\n",
    "headModel_xception_224 = Flatten(name=\"flatten\")(headModel_xception_224)\n",
    "headModel_xception_224 = Dense(12288, activation=\"relu\")(headModel_xception_224)\n",
    "headModel_xception_224 = Dropout(0.3)(headModel_xception_224)\n",
    "headModel_xception_224 = Dense(4096, activation=\"relu\")(headModel_xception_224)\n",
    "headModel_xception_224 = Dropout(0.3)(headModel_xception_224)\n",
    "headModel_xception_224 = Dense(3, activation=\"softmax\")(headModel_xception_224)\n",
    "\n",
    "# place the head FC model on top of the base model (this will become\n",
    "# the actual model we will train)\n",
    "model_based_xception_224 = Model(inputs=baseModel_xception_224.input, \n",
    "                                 outputs=headModel_xception_224)\n",
    "\n",
    "# loop over all layers in the base model and freeze them so they will\n",
    "# *not* be updated during the first training process\n",
    "for layer in baseModel_xception_224.layers:\n",
    "    layer.trainable = False"
   ]
  },
  {
   "cell_type": "code",
   "execution_count": null,
   "metadata": {
    "ExecuteTime": {
     "end_time": "2020-10-03T15:12:48.225702Z",
     "start_time": "2020-10-03T15:11:38.729237Z"
    }
   },
   "outputs": [],
   "source": [
    "dataset = np.load(bases_prontas_path+'mask_dataset_xception_preprocess_input_224_224_3.npy')\n",
    "target = np.load(bases_prontas_path+'mask_dataset_labels.npy')\n",
    "(trainX, testX, trainY, testY) = train_test_split(dataset, \n",
    "                                                  target,\n",
    "                                                  test_size=0.3, \n",
    "                                                  stratify=target, \n",
    "                                                  random_state=42)"
   ]
  },
  {
   "cell_type": "code",
   "execution_count": null,
   "metadata": {
    "ExecuteTime": {
     "start_time": "2020-10-03T00:44:09.242Z"
    }
   },
   "outputs": [],
   "source": [
    "model_based_xception_224.compile(loss=\"categorical_crossentropy\", \n",
    "                                 optimizer=opt1,\n",
    "                                 metrics=[\"accuracy\"])\n",
    "\n",
    "# train the head of the network\n",
    "print(\"[INFO] training head...\")\n",
    "H_xception_224 = model_based_xception_224.fit(aug.flow(trainX, trainY, batch_size=BS),\n",
    "                                              steps_per_epoch=len(trainX) // BS,\n",
    "                                              validation_data=(testX, testY),\n",
    "                                              validation_steps=len(testX) // BS,\n",
    "                                              epochs=EPOCHS)"
   ]
  },
  {
   "cell_type": "code",
   "execution_count": null,
   "metadata": {
    "ExecuteTime": {
     "start_time": "2020-10-03T00:44:09.243Z"
    }
   },
   "outputs": [],
   "source": [
    "Avaliando_modelo(model_based_xception_224, H_xception_224, testX, testY)"
   ]
  },
  {
   "cell_type": "code",
   "execution_count": null,
   "metadata": {
    "ExecuteTime": {
     "start_time": "2020-10-03T00:44:09.245Z"
    }
   },
   "outputs": [],
   "source": [
    "model_based_xception_224.save_weights(model_path+'model_based_xception_224_checkpoint')"
   ]
  }
 ],
 "metadata": {
  "kernelspec": {
   "display_name": "Python 3",
   "language": "python",
   "name": "python3"
  },
  "language_info": {
   "codemirror_mode": {
    "name": "ipython",
    "version": 3
   },
   "file_extension": ".py",
   "mimetype": "text/x-python",
   "name": "python",
   "nbconvert_exporter": "python",
   "pygments_lexer": "ipython3",
   "version": "3.6.10"
  }
 },
 "nbformat": 4,
 "nbformat_minor": 4
}
