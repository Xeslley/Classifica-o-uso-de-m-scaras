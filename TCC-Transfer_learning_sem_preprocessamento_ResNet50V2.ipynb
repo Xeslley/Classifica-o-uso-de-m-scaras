{
 "cells": [
  {
   "cell_type": "code",
   "execution_count": 1,
   "metadata": {
    "ExecuteTime": {
     "end_time": "2020-10-01T20:29:17.495499Z",
     "start_time": "2020-10-01T20:29:11.882237Z"
    }
   },
   "outputs": [],
   "source": [
    "from tensorflow.keras.preprocessing.image import ImageDataGenerator\n",
    "from tensorflow.keras.applications import ResNet50V2\n",
    "from tensorflow.keras.layers import AveragePooling2D\n",
    "from tensorflow.keras.layers import Dropout\n",
    "from tensorflow.keras.layers import Flatten\n",
    "from tensorflow.keras.layers import Dense\n",
    "from tensorflow.keras.layers import Input\n",
    "from tensorflow.keras.models import Model\n",
    "from tensorflow.keras.optimizers import Adam\n",
    "from tensorflow.keras.preprocessing.image import img_to_array\n",
    "from tensorflow.keras.preprocessing.image import load_img\n",
    "from tensorflow.keras.utils import to_categorical\n",
    "from sklearn.preprocessing import LabelEncoder\n",
    "from sklearn.model_selection import train_test_split\n",
    "from sklearn.metrics import classification_report\n",
    "import matplotlib.pyplot as plt\n",
    "import numpy as np\n",
    "import argparse\n",
    "import pandas as pd\n",
    "import glob\n",
    "import os\n",
    "import cv2\n",
    "import random as rand\n",
    "import os\n",
    "import xml.etree.ElementTree as et\n",
    "import re\n",
    "import pandas as pd"
   ]
  },
  {
   "cell_type": "code",
   "execution_count": 2,
   "metadata": {
    "ExecuteTime": {
     "end_time": "2020-10-01T20:29:17.503185Z",
     "start_time": "2020-10-01T20:29:17.495499Z"
    }
   },
   "outputs": [
    {
     "name": "stdout",
     "output_type": "stream",
     "text": [
      "D:\\FIA\\TCC\\BASES\\\n"
     ]
    }
   ],
   "source": [
    "bases_prontas_path = os.path.join(\"D:\\\\\",\"FIA\",\"TCC\",\"BASES\",\"\")\n",
    "print(bases_prontas_path)"
   ]
  },
  {
   "cell_type": "markdown",
   "metadata": {},
   "source": [
    "## Criar modelos com transfer learning"
   ]
  },
  {
   "cell_type": "code",
   "execution_count": null,
   "metadata": {
    "ExecuteTime": {
     "end_time": "2020-09-08T17:36:51.846827Z",
     "start_time": "2020-09-08T17:36:49.296530Z"
    }
   },
   "outputs": [],
   "source": [
    "baseModel_ResNet50V2_64 = ResNet50V2(weights=\"imagenet\", \n",
    "                                     include_top=False,\n",
    "                                     input_tensor=Input(shape=(64, 64, 3)))"
   ]
  },
  {
   "cell_type": "code",
   "execution_count": null,
   "metadata": {
    "ExecuteTime": {
     "end_time": "2020-09-08T17:36:51.932597Z",
     "start_time": "2020-09-08T17:36:51.848823Z"
    }
   },
   "outputs": [],
   "source": [
    "# construct the head of the model that will be placed on top of the\n",
    "# the base model\n",
    "headModel_ResNet50V2_64 = baseModel_ResNet50V2_64.output\n",
    "# headModel_ResNet50V2_64 = AveragePooling2D(pool_size=(7, 7))(headModel_ResNet50V2_64)\n",
    "headModel_ResNet50V2_64 = AveragePooling2D(pool_size=(2, 2))(headModel_ResNet50V2_64)\n",
    "headModel_ResNet50V2_64 = Flatten(name=\"flatten\")(headModel_ResNet50V2_64)\n",
    "headModel_ResNet50V2_64 = Dense(12288, activation=\"relu\")(headModel_ResNet50V2_64)\n",
    "headModel_ResNet50V2_64 = Dropout(0.3)(headModel_MobileNetV2_224)\n",
    "headModel_ResNet50V2_64 = Dense(4096, activation=\"relu\")(headModel_ResNet50V2_64)\n",
    "headModel_ResNet50V2_64 = Dropout(0.3)(headModel_MobileNetV2_224)\n",
    "headModel_ResNet50V2_64 = Dense(3, activation=\"softmax\")(headModel_ResNet50V2_64)\n",
    "\n",
    "# place the head FC model on top of the base model (this will become\n",
    "# the actual model we will train)\n",
    "model_based_ResNet50V2_64 = Model(inputs=baseModel_ResNet50V2_64.input, \n",
    "                                  outputs=headModel_ResNet50V2_64)\n",
    "\n",
    "# loop over all layers in the base model and freeze them so they will\n",
    "# *not* be updated during the first training process\n",
    "for layer in baseModel_ResNet50V2_64.layers:\n",
    "    layer.trainable = False"
   ]
  },
  {
   "cell_type": "code",
   "execution_count": null,
   "metadata": {
    "ExecuteTime": {
     "end_time": "2020-09-08T17:36:51.846827Z",
     "start_time": "2020-09-08T17:36:49.296530Z"
    }
   },
   "outputs": [],
   "source": [
    "baseModel_ResNet50V2_224 = ResNet50V2(weights=\"imagenet\", \n",
    "                                      include_top=False,\n",
    "                                      input_tensor=Input(shape=(224, 224, 3)))"
   ]
  },
  {
   "cell_type": "code",
   "execution_count": null,
   "metadata": {
    "ExecuteTime": {
     "end_time": "2020-09-08T17:36:51.932597Z",
     "start_time": "2020-09-08T17:36:51.848823Z"
    }
   },
   "outputs": [],
   "source": [
    "# construct the head of the model that will be placed on top of the\n",
    "# the base model\n",
    "headModel_ResNet50V2_224 = baseModel_ResNet50V2_224.output\n",
    "headModel_ResNet50V2_224 = AveragePooling2D(pool_size=(7, 7))(headModel_ResNet50V2_224)\n",
    "# headModel_ResNet50V2_224 = AveragePooling2D(pool_size=(2, 2))(headModel_ResNet50V2_224)\n",
    "headModel_ResNet50V2_224 = Flatten(name=\"flatten\")(headModel_ResNet50V2_224)\n",
    "headModel_ResNet50V2_224 = Dense(12288, activation=\"relu\")(headModel_ResNet50V2_224)\n",
    "headModel_ResNet50V2_224 = Dropout(0.3)(headModel_MobileNetV2_224)\n",
    "headModel_ResNet50V2_224 = Dense(4096, activation=\"relu\")(headModel_ResNet50V2_224)\n",
    "headModel_ResNet50V2_224 = Dropout(0.3)(headModel_MobileNetV2_224)\n",
    "headModel_ResNet50V2_224 = Dense(3, activation=\"softmax\")(headModel_ResNet50V2_224)\n",
    "\n",
    "# place the head FC model on top of the base model (this will become\n",
    "# the actual model we will train)\n",
    "model_based_ResNet50V2_224 = Model(inputs=baseModel_ResNet50V2_224.input, \n",
    "                                   outputs=headModel_ResNet50V2_224)\n",
    "\n",
    "# loop over all layers in the base model and freeze them so they will\n",
    "# *not* be updated during the first training process\n",
    "for layer in baseModel_ResNet50V2_224.layers:\n",
    "    layer.trainable = False"
   ]
  },
  {
   "cell_type": "code",
   "execution_count": 6,
   "metadata": {
    "ExecuteTime": {
     "end_time": "2020-10-01T20:29:27.664939Z",
     "start_time": "2020-10-01T20:29:27.659926Z"
    }
   },
   "outputs": [],
   "source": [
    "INIT_LR = 1e-4\n",
    "EPOCHS = 100\n",
    "BS = 1\n",
    "\n",
    "aug = ImageDataGenerator(zoom_range=0.1,\n",
    "                         width_shift_range=0.1,\n",
    "                         height_shift_range=0.1,\n",
    "                         shear_range=0.15,\n",
    "                         fill_mode=\"nearest\")"
   ]
  },
  {
   "cell_type": "code",
   "execution_count": 8,
   "metadata": {
    "ExecuteTime": {
     "end_time": "2020-10-01T20:30:04.178202Z",
     "start_time": "2020-10-01T20:30:04.173222Z"
    }
   },
   "outputs": [
    {
     "name": "stdout",
     "output_type": "stream",
     "text": [
      "[INFO] compiling model...\n"
     ]
    }
   ],
   "source": [
    "print(\"[INFO] compiling model...\")\n",
    "opt1 = Adam(lr=INIT_LR, decay=INIT_LR / EPOCHS)\n",
    "# opt2 = SGD(lr=1e-3, decay=1e-6, momentum=0.9, nesterov=True)"
   ]
  },
  {
   "cell_type": "markdown",
   "metadata": {},
   "source": [
    "## Compilar e treinar os modelos criados"
   ]
  },
  {
   "cell_type": "code",
   "execution_count": null,
   "metadata": {
    "ExecuteTime": {
     "end_time": "2020-09-10T00:40:21.164942Z",
     "start_time": "2020-09-10T00:39:59.085Z"
    }
   },
   "outputs": [],
   "source": [
    "dataset = np.load(bases_prontas_path+'mask_dataset_vgg16_preprocess_input_64_64_3.npy')\n",
    "target = np.load(bases_prontas_path+'mask_dataset_labels.npy')\n",
    "(trainX, testX, trainY, testY) = train_test_split(dataset, \n",
    "                                                  target,\n",
    "                                                  test_size=0.3, \n",
    "                                                  stratify=target, \n",
    "                                                  random_state=42)"
   ]
  },
  {
   "cell_type": "code",
   "execution_count": null,
   "metadata": {
    "ExecuteTime": {
     "end_time": "2020-09-08T17:14:59.833187Z",
     "start_time": "2020-09-08T17:14:59.815267Z"
    }
   },
   "outputs": [],
   "source": [
    "model_based_ResNet50V2_64.compile(loss=\"categorical_crossentropy\", \n",
    "                                  optimizer=opt1,\n",
    "                                  metrics=[\"accuracy\"])\n",
    "\n",
    "# train the head of the network\n",
    "print(\"[INFO] training head...\")\n",
    "H_ResNet50V2_64 = model_based_ResNet50V2_64.fit(aug.flow(trainX, trainY, batch_size=BS),\n",
    "                                                steps_per_epoch=len(trainX) // BS,\n",
    "                                                validation_data=(testX, testY),\n",
    "                                                validation_steps=len(testX) // BS,\n",
    "                                                epochs=EPOCHS)\n"
   ]
  },
  {
   "cell_type": "markdown",
   "metadata": {},
   "source": [
    "## Avaliar os modelos"
   ]
  },
  {
   "cell_type": "code",
   "execution_count": 20,
   "metadata": {
    "ExecuteTime": {
     "end_time": "2020-10-02T11:33:23.859721Z",
     "start_time": "2020-10-02T11:33:23.822788Z"
    },
    "scrolled": true
   },
   "outputs": [
    {
     "name": "stdout",
     "output_type": "stream",
     "text": [
      "[INFO] evaluating network...\n"
     ]
    }
   ],
   "source": [
    "print(\"[INFO] evaluating network...\")\n",
    "lb = [\"without_mask\",\"mask_weared_incorrect\",\"with_mask\"]\n",
    "def Avaliando_modelo(model, NWHead = None,x_test=testX, y_test=testY):\n",
    "    predIdxs = model.predict(x_test, batch_size=32)\n",
    "\n",
    "    # for each image in the testing set we need to find the index of the\n",
    "    # label with corresponding largest predicted probability\n",
    "    predIdxs = np.argmax(predIdxs, axis=1)\n",
    "\n",
    "    # show a nicely formatted classification report\n",
    "    print(classification_report(y_test.argmax(axis=1), predIdxs,\n",
    "                                target_names=lb))\n",
    "\n",
    "    # serialize the model to disk\n",
    "    print(\"[INFO] saving mask detector model...\")\n",
    "\n",
    "    if NWHead:\n",
    "        # plot the training loss and accuracy\n",
    "        N = EPOCHS\n",
    "        plt.style.use(\"ggplot\")\n",
    "        plt.figure()\n",
    "        plt.plot(np.arange(0, N), NWHead.history[\"loss\"], label=\"train_loss\")\n",
    "        plt.plot(np.arange(0, N), NWHead.history[\"val_loss\"], label=\"val_loss\")\n",
    "        plt.plot(np.arange(0, N), NWHead.history[\"accuracy\"], label=\"train_acc\")\n",
    "        plt.plot(np.arange(0, N), NWHead.history[\"val_accuracy\"], label=\"val_acc\")\n",
    "        plt.title(\"Training Loss and Accuracy\")\n",
    "        plt.xlabel(\"Epoch #\")\n",
    "        plt.ylabel(\"Loss/Accuracy\")\n",
    "        plt.legend(loc=\"lower left\")\n",
    "        plt.show()\n",
    "    return classification_report(y_test.argmax(axis=1), predIdxs,\n",
    "                                target_names=lb,output_dict=True)"
   ]
  },
  {
   "cell_type": "code",
   "execution_count": null,
   "metadata": {
    "ExecuteTime": {
     "end_time": "2020-09-05T10:16:00.167324Z",
     "start_time": "2020-09-05T10:15:38.849171Z"
    }
   },
   "outputs": [],
   "source": [
    "Avaliando_modelo(model_based_ResNet50V2_64, H_ResNet50V2_64, testX, testY)"
   ]
  },
  {
   "cell_type": "markdown",
   "metadata": {},
   "source": [
    "## salvar os pesos dos modelos para não precisar salvar de novo"
   ]
  },
  {
   "cell_type": "code",
   "execution_count": null,
   "metadata": {
    "ExecuteTime": {
     "end_time": "2020-09-05T10:12:56.840276Z",
     "start_time": "2020-09-05T10:12:56.820331Z"
    }
   },
   "outputs": [],
   "source": [
    "model_path = os.path.join(\"D:\\\\\",\"FIA\",\"TCC\",\"Meus_Modelos\",\"\")\n",
    "print(model_path)"
   ]
  },
  {
   "cell_type": "code",
   "execution_count": null,
   "metadata": {
    "ExecuteTime": {
     "end_time": "2020-09-05T10:13:10.207158Z",
     "start_time": "2020-09-05T10:13:06.259850Z"
    }
   },
   "outputs": [],
   "source": [
    "# https://www.tensorflow.org/tutorials/keras/save_and_load\n",
    "# Save the weights\n",
    "model_based_ResNet50V2_64.save_weights(model_path+'model_based_ResNet50V2_64_checkpoint')\n"
   ]
  },
  {
   "cell_type": "markdown",
   "metadata": {},
   "source": [
    "## Refazer para um dataset com shape maior"
   ]
  },
  {
   "cell_type": "code",
   "execution_count": null,
   "metadata": {
    "ExecuteTime": {
     "end_time": "2020-09-10T00:40:21.164942Z",
     "start_time": "2020-09-10T00:39:59.085Z"
    }
   },
   "outputs": [],
   "source": [
    "dataset = np.load(bases_prontas_path+'mask_dataset_vgg16_preprocess_input_224_224_3.npy')\n",
    "target = np.load(bases_prontas_path+'mask_dataset_labels.npy')\n",
    "(trainX, testX, trainY, testY) = train_test_split(dataset, \n",
    "                                                  target,\n",
    "                                                  test_size=0.3, \n",
    "                                                  stratify=target, \n",
    "                                                  random_state=42)"
   ]
  },
  {
   "cell_type": "code",
   "execution_count": null,
   "metadata": {
    "ExecuteTime": {
     "end_time": "2020-09-08T17:14:59.833187Z",
     "start_time": "2020-09-08T17:14:59.815267Z"
    }
   },
   "outputs": [],
   "source": [
    "model_based_ResNet50V2_224.compile(loss=\"categorical_crossentropy\", \n",
    "                                   optimizer=opt1,\n",
    "                                   metrics=[\"accuracy\"])\n",
    "\n",
    "# train the head of the network\n",
    "print(\"[INFO] training head...\")\n",
    "H_ResNet50V2_224 = model_based_ResNet50V2_224.fit(aug.flow(trainX, trainY, batch_size=BS),\n",
    "                                                  steps_per_epoch=len(trainX) // BS,\n",
    "                                                  validation_data=(testX, testY),\n",
    "                                                  validation_steps=len(testX) // BS,\n",
    "                                                  epochs=EPOCHS)\n"
   ]
  },
  {
   "cell_type": "code",
   "execution_count": null,
   "metadata": {
    "ExecuteTime": {
     "end_time": "2020-09-05T10:16:00.167324Z",
     "start_time": "2020-09-05T10:15:38.849171Z"
    }
   },
   "outputs": [],
   "source": [
    "Avaliando_modelo(model_based_ResNet50V2_224, H_ResNet50V2_224, testX, testY)"
   ]
  },
  {
   "cell_type": "code",
   "execution_count": null,
   "metadata": {},
   "outputs": [],
   "source": [
    "model_based_ResNet50V2_224.save_weights(model_path+'model_based_ResNet50V2_224_checkpoint')"
   ]
  }
 ],
 "metadata": {
  "kernelspec": {
   "display_name": "Python 3",
   "language": "python",
   "name": "python3"
  },
  "language_info": {
   "codemirror_mode": {
    "name": "ipython",
    "version": 3
   },
   "file_extension": ".py",
   "mimetype": "text/x-python",
   "name": "python",
   "nbconvert_exporter": "python",
   "pygments_lexer": "ipython3",
   "version": "3.6.10"
  }
 },
 "nbformat": 4,
 "nbformat_minor": 4
}
